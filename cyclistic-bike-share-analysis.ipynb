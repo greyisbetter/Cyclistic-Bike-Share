{
 "cells": [
  {
   "cell_type": "markdown",
   "id": "62890710",
   "metadata": {
    "_cell_guid": "b1076dfc-b9ad-4769-8c92-a6c4dae69d19",
    "_uuid": "8f2839f25d086af736a60e9eeb907d3b93b6e0e5",
    "papermill": {
     "duration": 0.017369,
     "end_time": "2022-08-17T03:52:40.400961",
     "exception": false,
     "start_time": "2022-08-17T03:52:40.383592",
     "status": "completed"
    },
    "tags": []
   },
   "source": [
    "# Case Study: How Does a Bike-Share Navigate Speedy Success?\n",
    "### Introduction\n",
    "We will work for a fictional company, Cyclistic, and meet different characters and team members. In order to\n",
    "answer the key business questions, we will follow the steps of the data analysis process:\n",
    "1. <a href=\"#ask\">Ask</a>\n",
    "2. <a href=\"#prepare\">Prepare</a>\n",
    "3. <a href=\"#process\">Process</a>\n",
    "4. <a href=\"\">Analyze</a>\n",
    "5. <a href=\"\">Share</a>\n",
    "6. <a href=\"\">Act</a>\n",
    "\n",
    "### Scenario\n",
    "As a junior data analyst working in the marketing analyst team at Cyclistic, a bike-share company in Chicago. The director of marketing believes the company’s future success depends on maximizing the number of annual memberships. Therefore, our team wants to understand how casual riders and annual members use Cyclistic bikes differently. From these insights, our team will design a new marketing strategy to convert casual riders into annual members.\n",
    "\n",
    "# Ask<div id=\"ask\"></div>\n",
    "Our business task is to analyze **how do annual members and casual riders use Cyclistic bikes differently**, which helps in designing a new marketing strategy to convert casual riders into annual members.\n",
    "\n",
    "**Problem type**: Identifying themes\n",
    "\n",
    "# Prepare<div id=\"prepare\"></div>\n",
    "We will use Cyclistic’s historical trip data to analyze and identify trends. [Download the previous 12 months of Cyclistic trip data here](https://www.kaggle.com/datasets/oksharma/cyclistic-bikeshare-dataset). This is public data that we can use to explore how different customer types are using Cyclistic bikes. We have 12 datasets organized in chronological order from _June-2021_ to _May-2022_.\n",
    "\n",
    "# Process\n",
    "Basic cleaning or manipulation of data like:\n",
    "- Duplicate data\n",
    "- Outdated data\n",
    "- Incomplete data\n",
    "- Incorrect/inaccurate data\n",
    "- Inconsistence data"
   ]
  },
  {
   "cell_type": "code",
   "execution_count": 1,
   "id": "3bc0d06b",
   "metadata": {
    "execution": {
     "iopub.execute_input": "2022-08-17T03:52:40.432449Z",
     "iopub.status.busy": "2022-08-17T03:52:40.431692Z",
     "iopub.status.idle": "2022-08-17T03:52:41.555251Z",
     "shell.execute_reply": "2022-08-17T03:52:41.554044Z"
    },
    "papermill": {
     "duration": 1.142575,
     "end_time": "2022-08-17T03:52:41.558260",
     "exception": false,
     "start_time": "2022-08-17T03:52:40.415685",
     "status": "completed"
    },
    "tags": []
   },
   "outputs": [],
   "source": [
    "# data analysis and wrangling\n",
    "import pandas as pd\n",
    "import numpy as np\n",
    "import random as rnd\n",
    "\n",
    "# visualization\n",
    "import seaborn as sns\n",
    "import matplotlib.pyplot as plt\n",
    "%matplotlib inline\n",
    "\n",
    "# ignore warnings\n",
    "import warnings\n",
    "warnings.simplefilter(action='ignore')"
   ]
  },
  {
   "cell_type": "code",
   "execution_count": 2,
   "id": "643b2111",
   "metadata": {
    "execution": {
     "iopub.execute_input": "2022-08-17T03:52:41.590884Z",
     "iopub.status.busy": "2022-08-17T03:52:41.590476Z",
     "iopub.status.idle": "2022-08-17T03:53:13.183555Z",
     "shell.execute_reply": "2022-08-17T03:53:13.182669Z"
    },
    "papermill": {
     "duration": 31.611686,
     "end_time": "2022-08-17T03:53:13.186287",
     "exception": false,
     "start_time": "2022-08-17T03:52:41.574601",
     "status": "completed"
    },
    "tags": []
   },
   "outputs": [],
   "source": [
    "# import data\n",
    "june21 = pd.read_csv('../input/cyclistic-bikeshare-dataset/202106-divvy-tripdata.csv')\n",
    "july21 = pd.read_csv('../input/cyclistic-bikeshare-dataset/202107-divvy-tripdata.csv')\n",
    "august21 = pd.read_csv('../input/cyclistic-bikeshare-dataset/202108-divvy-tripdata.csv')\n",
    "september21 = pd.read_csv('../input/cyclistic-bikeshare-dataset/202109-divvy-tripdata.csv')\n",
    "october21 = pd.read_csv('../input/cyclistic-bikeshare-dataset/202110-divvy-tripdata.csv')\n",
    "november21 = pd.read_csv('../input/cyclistic-bikeshare-dataset/202111-divvy-tripdata.csv')\n",
    "december21 = pd.read_csv('../input/cyclistic-bikeshare-dataset/202112-divvy-tripdata.csv')\n",
    "jan22 = pd.read_csv('../input/cyclistic-bikeshare-dataset/202201-divvy-tripdata.csv')\n",
    "february22 = pd.read_csv('../input/cyclistic-bikeshare-dataset/202202-divvy-tripdata.csv')\n",
    "march22 = pd.read_csv('../input/cyclistic-bikeshare-dataset/202203-divvy-tripdata.csv')\n",
    "april22 = pd.read_csv('../input/cyclistic-bikeshare-dataset/202204-divvy-tripdata.csv')\n",
    "may22 = pd.read_csv('../input/cyclistic-bikeshare-dataset/202205-divvy-tripdata.csv')\n",
    "year = [june21, july21, august21, september21, october21, november21, december21, jan22, february22, march22, april22, may22]"
   ]
  },
  {
   "cell_type": "markdown",
   "id": "fb924439",
   "metadata": {
    "papermill": {
     "duration": 0.014185,
     "end_time": "2022-08-17T03:53:13.215225",
     "exception": false,
     "start_time": "2022-08-17T03:53:13.201040",
     "status": "completed"
    },
    "tags": []
   },
   "source": [
    "**Which features are numerical?**\n",
    "- start_lat\n",
    "- start_lng\n",
    "- end_lat\n",
    "- end_lng"
   ]
  },
  {
   "cell_type": "code",
   "execution_count": 3,
   "id": "12fa6d00",
   "metadata": {
    "execution": {
     "iopub.execute_input": "2022-08-17T03:53:13.245739Z",
     "iopub.status.busy": "2022-08-17T03:53:13.245116Z",
     "iopub.status.idle": "2022-08-17T03:53:13.437103Z",
     "shell.execute_reply": "2022-08-17T03:53:13.435728Z"
    },
    "papermill": {
     "duration": 0.210517,
     "end_time": "2022-08-17T03:53:13.439996",
     "exception": false,
     "start_time": "2022-08-17T03:53:13.229479",
     "status": "completed"
    },
    "tags": []
   },
   "outputs": [
    {
     "data": {
      "text/html": [
       "<div>\n",
       "<style scoped>\n",
       "    .dataframe tbody tr th:only-of-type {\n",
       "        vertical-align: middle;\n",
       "    }\n",
       "\n",
       "    .dataframe tbody tr th {\n",
       "        vertical-align: top;\n",
       "    }\n",
       "\n",
       "    .dataframe thead th {\n",
       "        text-align: right;\n",
       "    }\n",
       "</style>\n",
       "<table border=\"1\" class=\"dataframe\">\n",
       "  <thead>\n",
       "    <tr style=\"text-align: right;\">\n",
       "      <th></th>\n",
       "      <th>start_lat</th>\n",
       "      <th>start_lng</th>\n",
       "      <th>end_lat</th>\n",
       "      <th>end_lng</th>\n",
       "    </tr>\n",
       "  </thead>\n",
       "  <tbody>\n",
       "    <tr>\n",
       "      <th>count</th>\n",
       "      <td>729595.000000</td>\n",
       "      <td>729595.000000</td>\n",
       "      <td>728878.000000</td>\n",
       "      <td>728878.000000</td>\n",
       "    </tr>\n",
       "    <tr>\n",
       "      <th>mean</th>\n",
       "      <td>41.903507</td>\n",
       "      <td>-87.644553</td>\n",
       "      <td>41.903886</td>\n",
       "      <td>-87.644824</td>\n",
       "    </tr>\n",
       "    <tr>\n",
       "      <th>std</th>\n",
       "      <td>0.042470</td>\n",
       "      <td>0.025981</td>\n",
       "      <td>0.042661</td>\n",
       "      <td>0.026240</td>\n",
       "    </tr>\n",
       "    <tr>\n",
       "      <th>min</th>\n",
       "      <td>41.640000</td>\n",
       "      <td>-87.780000</td>\n",
       "      <td>41.510000</td>\n",
       "      <td>-87.860000</td>\n",
       "    </tr>\n",
       "    <tr>\n",
       "      <th>25%</th>\n",
       "      <td>41.883380</td>\n",
       "      <td>-87.658617</td>\n",
       "      <td>41.883668</td>\n",
       "      <td>-87.658807</td>\n",
       "    </tr>\n",
       "    <tr>\n",
       "      <th>50%</th>\n",
       "      <td>41.900000</td>\n",
       "      <td>-87.640000</td>\n",
       "      <td>41.900960</td>\n",
       "      <td>-87.640823</td>\n",
       "    </tr>\n",
       "    <tr>\n",
       "      <th>75%</th>\n",
       "      <td>41.928887</td>\n",
       "      <td>-87.627479</td>\n",
       "      <td>41.929424</td>\n",
       "      <td>-87.627542</td>\n",
       "    </tr>\n",
       "    <tr>\n",
       "      <th>max</th>\n",
       "      <td>42.070000</td>\n",
       "      <td>-87.520000</td>\n",
       "      <td>42.080000</td>\n",
       "      <td>-87.490000</td>\n",
       "    </tr>\n",
       "  </tbody>\n",
       "</table>\n",
       "</div>"
      ],
      "text/plain": [
       "           start_lat      start_lng        end_lat        end_lng\n",
       "count  729595.000000  729595.000000  728878.000000  728878.000000\n",
       "mean       41.903507     -87.644553      41.903886     -87.644824\n",
       "std         0.042470       0.025981       0.042661       0.026240\n",
       "min        41.640000     -87.780000      41.510000     -87.860000\n",
       "25%        41.883380     -87.658617      41.883668     -87.658807\n",
       "50%        41.900000     -87.640000      41.900960     -87.640823\n",
       "75%        41.928887     -87.627479      41.929424     -87.627542\n",
       "max        42.070000     -87.520000      42.080000     -87.490000"
      ]
     },
     "execution_count": 3,
     "metadata": {},
     "output_type": "execute_result"
    }
   ],
   "source": [
    "june21.describe()"
   ]
  },
  {
   "cell_type": "markdown",
   "id": "4e953c36",
   "metadata": {
    "papermill": {
     "duration": 0.014338,
     "end_time": "2022-08-17T03:53:13.469103",
     "exception": false,
     "start_time": "2022-08-17T03:53:13.454765",
     "status": "completed"
    },
    "tags": []
   },
   "source": [
    "**Which features are categorical?**\n",
    "- rideable_type\n",
    "- member casual\n",
    "\n",
    "**Which features are mixed data types?**\n",
    "- ride_id\n",
    "- start_station_name\n",
    "- start_station_id\n",
    "- end_station_name\n",
    "- end_station_id\n",
    "\n",
    "**Which features are datetime?**\n",
    "- started_at\n",
    "- ended_at"
   ]
  },
  {
   "cell_type": "code",
   "execution_count": 4,
   "id": "ca417d9b",
   "metadata": {
    "execution": {
     "iopub.execute_input": "2022-08-17T03:53:13.500128Z",
     "iopub.status.busy": "2022-08-17T03:53:13.499716Z",
     "iopub.status.idle": "2022-08-17T03:53:15.949750Z",
     "shell.execute_reply": "2022-08-17T03:53:15.948566Z"
    },
    "papermill": {
     "duration": 2.468647,
     "end_time": "2022-08-17T03:53:15.952303",
     "exception": false,
     "start_time": "2022-08-17T03:53:13.483656",
     "status": "completed"
    },
    "tags": []
   },
   "outputs": [
    {
     "data": {
      "text/html": [
       "<div>\n",
       "<style scoped>\n",
       "    .dataframe tbody tr th:only-of-type {\n",
       "        vertical-align: middle;\n",
       "    }\n",
       "\n",
       "    .dataframe tbody tr th {\n",
       "        vertical-align: top;\n",
       "    }\n",
       "\n",
       "    .dataframe thead th {\n",
       "        text-align: right;\n",
       "    }\n",
       "</style>\n",
       "<table border=\"1\" class=\"dataframe\">\n",
       "  <thead>\n",
       "    <tr style=\"text-align: right;\">\n",
       "      <th></th>\n",
       "      <th>ride_id</th>\n",
       "      <th>rideable_type</th>\n",
       "      <th>started_at</th>\n",
       "      <th>ended_at</th>\n",
       "      <th>start_station_name</th>\n",
       "      <th>start_station_id</th>\n",
       "      <th>end_station_name</th>\n",
       "      <th>end_station_id</th>\n",
       "      <th>member_casual</th>\n",
       "    </tr>\n",
       "  </thead>\n",
       "  <tbody>\n",
       "    <tr>\n",
       "      <th>count</th>\n",
       "      <td>729595</td>\n",
       "      <td>729595</td>\n",
       "      <td>729595</td>\n",
       "      <td>729595</td>\n",
       "      <td>649502</td>\n",
       "      <td>649502</td>\n",
       "      <td>643208</td>\n",
       "      <td>643208</td>\n",
       "      <td>729595</td>\n",
       "    </tr>\n",
       "    <tr>\n",
       "      <th>unique</th>\n",
       "      <td>729595</td>\n",
       "      <td>3</td>\n",
       "      <td>589805</td>\n",
       "      <td>589069</td>\n",
       "      <td>689</td>\n",
       "      <td>689</td>\n",
       "      <td>690</td>\n",
       "      <td>690</td>\n",
       "      <td>2</td>\n",
       "    </tr>\n",
       "    <tr>\n",
       "      <th>top</th>\n",
       "      <td>99FEC93BA843FB20</td>\n",
       "      <td>classic_bike</td>\n",
       "      <td>2021-06-17 18:14:52</td>\n",
       "      <td>2021-06-05 07:02:34</td>\n",
       "      <td>Streeter Dr &amp; Grand Ave</td>\n",
       "      <td>13022</td>\n",
       "      <td>Streeter Dr &amp; Grand Ave</td>\n",
       "      <td>13022</td>\n",
       "      <td>casual</td>\n",
       "    </tr>\n",
       "    <tr>\n",
       "      <th>freq</th>\n",
       "      <td>1</td>\n",
       "      <td>435020</td>\n",
       "      <td>7</td>\n",
       "      <td>10</td>\n",
       "      <td>14072</td>\n",
       "      <td>14072</td>\n",
       "      <td>14036</td>\n",
       "      <td>14036</td>\n",
       "      <td>370681</td>\n",
       "    </tr>\n",
       "  </tbody>\n",
       "</table>\n",
       "</div>"
      ],
      "text/plain": [
       "                 ride_id rideable_type           started_at  \\\n",
       "count             729595        729595               729595   \n",
       "unique            729595             3               589805   \n",
       "top     99FEC93BA843FB20  classic_bike  2021-06-17 18:14:52   \n",
       "freq                   1        435020                    7   \n",
       "\n",
       "                   ended_at       start_station_name start_station_id  \\\n",
       "count                729595                   649502           649502   \n",
       "unique               589069                      689              689   \n",
       "top     2021-06-05 07:02:34  Streeter Dr & Grand Ave            13022   \n",
       "freq                     10                    14072            14072   \n",
       "\n",
       "               end_station_name end_station_id member_casual  \n",
       "count                    643208         643208        729595  \n",
       "unique                      690            690             2  \n",
       "top     Streeter Dr & Grand Ave          13022        casual  \n",
       "freq                      14036          14036        370681  "
      ]
     },
     "execution_count": 4,
     "metadata": {},
     "output_type": "execute_result"
    }
   ],
   "source": [
    "june21.describe(include=['O'])"
   ]
  },
  {
   "cell_type": "markdown",
   "id": "d9492ee4",
   "metadata": {
    "papermill": {
     "duration": 0.014589,
     "end_time": "2022-08-17T03:53:15.982029",
     "exception": false,
     "start_time": "2022-08-17T03:53:15.967440",
     "status": "completed"
    },
    "tags": []
   },
   "source": [
    "We have two kinds of data:\n",
    "- **Personal**: ride_id, membership, bike_type\n",
    "- **Route**: station, geolocation, duration\n",
    "\n",
    "Now we know about the attributes of the dataset, we can proceed to data our data processing steps. Begins with concatenate the whole months dataset into one so that we can clean it."
   ]
  },
  {
   "cell_type": "code",
   "execution_count": 5,
   "id": "14a7da7e",
   "metadata": {
    "execution": {
     "iopub.execute_input": "2022-08-17T03:53:16.013693Z",
     "iopub.status.busy": "2022-08-17T03:53:16.013254Z",
     "iopub.status.idle": "2022-08-17T03:53:47.323657Z",
     "shell.execute_reply": "2022-08-17T03:53:47.321574Z"
    },
    "papermill": {
     "duration": 31.35015,
     "end_time": "2022-08-17T03:53:47.347140",
     "exception": false,
     "start_time": "2022-08-17T03:53:15.996990",
     "status": "completed"
    },
    "tags": []
   },
   "outputs": [
    {
     "name": "stdout",
     "output_type": "stream",
     "text": [
      "<class 'pandas.core.frame.DataFrame'>\n",
      "Int64Index: 5860776 entries, 0 to 5860775\n",
      "Data columns (total 13 columns):\n",
      " #   Column              Dtype  \n",
      "---  ------              -----  \n",
      " 0   ride_id             object \n",
      " 1   rideable_type       object \n",
      " 2   started_at          object \n",
      " 3   ended_at            object \n",
      " 4   start_station_name  object \n",
      " 5   start_station_id    object \n",
      " 6   end_station_name    object \n",
      " 7   end_station_id      object \n",
      " 8   start_lat           float64\n",
      " 9   start_lng           float64\n",
      " 10  end_lat             float64\n",
      " 11  end_lng             float64\n",
      " 12  member_casual       object \n",
      "dtypes: float64(4), object(9)\n",
      "memory usage: 626.0+ MB\n"
     ]
    }
   ],
   "source": [
    "recent_year = pd.concat(year, ignore_index=True)\n",
    "# before proceeding to any further steps remove duplicates if any\n",
    "recent_year = recent_year.drop_duplicates(inplace=False)\n",
    "recent_year.info()"
   ]
  },
  {
   "cell_type": "markdown",
   "id": "7d7ee6f5",
   "metadata": {
    "papermill": {
     "duration": 0.014762,
     "end_time": "2022-08-17T03:53:47.377132",
     "exception": false,
     "start_time": "2022-08-17T03:53:47.362370",
     "status": "completed"
    },
    "tags": []
   },
   "source": [
    "### Missing data\n",
    "Find out what percentage of data is missing and how to deal with each of them."
   ]
  },
  {
   "cell_type": "code",
   "execution_count": 6,
   "id": "62d66fcb",
   "metadata": {
    "execution": {
     "iopub.execute_input": "2022-08-17T03:53:47.409916Z",
     "iopub.status.busy": "2022-08-17T03:53:47.409092Z",
     "iopub.status.idle": "2022-08-17T03:53:51.942337Z",
     "shell.execute_reply": "2022-08-17T03:53:51.940904Z"
    },
    "papermill": {
     "duration": 4.55339,
     "end_time": "2022-08-17T03:53:51.945464",
     "exception": false,
     "start_time": "2022-08-17T03:53:47.392074",
     "status": "completed"
    },
    "tags": []
   },
   "outputs": [
    {
     "name": "stdout",
     "output_type": "stream",
     "text": [
      "There are 6 features having missing data.\n",
      "\n",
      "Top 10 missing value features:\n"
     ]
    },
    {
     "data": {
      "text/html": [
       "<div>\n",
       "<style scoped>\n",
       "    .dataframe tbody tr th:only-of-type {\n",
       "        vertical-align: middle;\n",
       "    }\n",
       "\n",
       "    .dataframe tbody tr th {\n",
       "        vertical-align: top;\n",
       "    }\n",
       "\n",
       "    .dataframe thead th {\n",
       "        text-align: right;\n",
       "    }\n",
       "</style>\n",
       "<table border=\"1\" class=\"dataframe\">\n",
       "  <thead>\n",
       "    <tr style=\"text-align: right;\">\n",
       "      <th></th>\n",
       "      <th>Count</th>\n",
       "      <th>Percent</th>\n",
       "    </tr>\n",
       "  </thead>\n",
       "  <tbody>\n",
       "    <tr>\n",
       "      <th>end_station_name</th>\n",
       "      <td>878338</td>\n",
       "      <td>14.986718</td>\n",
       "    </tr>\n",
       "    <tr>\n",
       "      <th>end_station_id</th>\n",
       "      <td>878338</td>\n",
       "      <td>14.986718</td>\n",
       "    </tr>\n",
       "    <tr>\n",
       "      <th>start_station_name</th>\n",
       "      <td>823167</td>\n",
       "      <td>14.045358</td>\n",
       "    </tr>\n",
       "    <tr>\n",
       "      <th>start_station_id</th>\n",
       "      <td>823164</td>\n",
       "      <td>14.045307</td>\n",
       "    </tr>\n",
       "    <tr>\n",
       "      <th>end_lat</th>\n",
       "      <td>5036</td>\n",
       "      <td>0.085927</td>\n",
       "    </tr>\n",
       "    <tr>\n",
       "      <th>end_lng</th>\n",
       "      <td>5036</td>\n",
       "      <td>0.085927</td>\n",
       "    </tr>\n",
       "  </tbody>\n",
       "</table>\n",
       "</div>"
      ],
      "text/plain": [
       "                     Count    Percent\n",
       "end_station_name    878338  14.986718\n",
       "end_station_id      878338  14.986718\n",
       "start_station_name  823167  14.045358\n",
       "start_station_id    823164  14.045307\n",
       "end_lat               5036   0.085927\n",
       "end_lng               5036   0.085927"
      ]
     },
     "execution_count": 6,
     "metadata": {},
     "output_type": "execute_result"
    }
   ],
   "source": [
    "missing_data_count = recent_year.isnull().sum()\n",
    "missing_data_percent = recent_year.isnull().sum() / len(recent_year) * 100\n",
    "\n",
    "missing_data = pd.DataFrame({\n",
    "    'Count': missing_data_count,\n",
    "    'Percent': missing_data_percent\n",
    "})\n",
    "missing_data = missing_data[missing_data.Count > 0]\n",
    "missing_data.sort_values(by='Count', ascending=False, inplace=True)\n",
    "\n",
    "print(f\"There are {missing_data.shape[0]} features having missing data.\\n\")\n",
    "print(\"Top 10 missing value features:\")\n",
    "missing_data.head(10)"
   ]
  },
  {
   "cell_type": "markdown",
   "id": "7d0c9209",
   "metadata": {
    "papermill": {
     "duration": 0.016148,
     "end_time": "2022-08-17T03:53:51.977387",
     "exception": false,
     "start_time": "2022-08-17T03:53:51.961239",
     "status": "completed"
    },
    "tags": []
   },
   "source": [
    "We have around **15% of station data missing** and **8.6% of geoloc data missing**. Now we will separate these three route datasets for individual analysis and a recent_year"
   ]
  },
  {
   "cell_type": "code",
   "execution_count": 7,
   "id": "bdf39155",
   "metadata": {
    "execution": {
     "iopub.execute_input": "2022-08-17T03:53:52.011765Z",
     "iopub.status.busy": "2022-08-17T03:53:52.010951Z",
     "iopub.status.idle": "2022-08-17T03:54:02.763018Z",
     "shell.execute_reply": "2022-08-17T03:54:02.761627Z"
    },
    "papermill": {
     "duration": 10.772642,
     "end_time": "2022-08-17T03:54:02.765674",
     "exception": false,
     "start_time": "2022-08-17T03:53:51.993032",
     "status": "completed"
    },
    "tags": []
   },
   "outputs": [],
   "source": [
    "station = recent_year[[\"ride_id\", \"rideable_type\", \"member_casual\", \"start_station_name\", \"start_station_id\", \"end_station_name\", \"end_station_id\"]].dropna()\n",
    "geoloc = recent_year[[\"ride_id\", \"rideable_type\", \"member_casual\", \"start_lat\", \"start_lng\", \"end_lat\", \"end_lng\"]].dropna()\n",
    "duration = recent_year[[\"ride_id\", \"rideable_type\", \"member_casual\", \"started_at\", \"ended_at\"]].dropna()\n",
    "recent_year_clean = recent_year.dropna()"
   ]
  },
  {
   "cell_type": "markdown",
   "id": "22275dc1",
   "metadata": {
    "papermill": {
     "duration": 0.01523,
     "end_time": "2022-08-17T03:54:02.796516",
     "exception": false,
     "start_time": "2022-08-17T03:54:02.781286",
     "status": "completed"
    },
    "tags": []
   },
   "source": [
    "### Typos\n",
    "In station names we can easily spot typos by the different unique values in their ids and names. Where in __start_station_name has 32 typos__ and in __end_station_name has 33 typos__."
   ]
  },
  {
   "cell_type": "code",
   "execution_count": 8,
   "id": "0f6cf913",
   "metadata": {
    "execution": {
     "iopub.execute_input": "2022-08-17T03:54:02.829626Z",
     "iopub.status.busy": "2022-08-17T03:54:02.828989Z",
     "iopub.status.idle": "2022-08-17T03:54:03.725201Z",
     "shell.execute_reply": "2022-08-17T03:54:03.723681Z"
    },
    "papermill": {
     "duration": 0.916018,
     "end_time": "2022-08-17T03:54:03.727805",
     "exception": false,
     "start_time": "2022-08-17T03:54:02.811787",
     "status": "completed"
    },
    "tags": []
   },
   "outputs": [
    {
     "name": "stdout",
     "output_type": "stream",
     "text": [
      "start_station_name: 1045 \n",
      "start_station_id: 1013\n"
     ]
    }
   ],
   "source": [
    "print(\"start_station_name:\", station[\"start_station_name\"].nunique(),\n",
    "      \"\\nstart_station_id:\", station[\"start_station_id\"].nunique())"
   ]
  },
  {
   "cell_type": "code",
   "execution_count": 9,
   "id": "ae117c56",
   "metadata": {
    "execution": {
     "iopub.execute_input": "2022-08-17T03:54:03.761524Z",
     "iopub.status.busy": "2022-08-17T03:54:03.760146Z",
     "iopub.status.idle": "2022-08-17T03:54:04.587951Z",
     "shell.execute_reply": "2022-08-17T03:54:04.586254Z"
    },
    "papermill": {
     "duration": 0.847804,
     "end_time": "2022-08-17T03:54:04.591231",
     "exception": false,
     "start_time": "2022-08-17T03:54:03.743427",
     "status": "completed"
    },
    "tags": []
   },
   "outputs": [
    {
     "name": "stdout",
     "output_type": "stream",
     "text": [
      "end_station_name: 1054 \n",
      "end_station_id: 1021\n"
     ]
    }
   ],
   "source": [
    "print(\"end_station_name:\", station[\"end_station_name\"].nunique(),\n",
    "      \"\\nend_station_id:\", station[\"end_station_id\"].nunique())"
   ]
  },
  {
   "cell_type": "markdown",
   "id": "b149012a",
   "metadata": {
    "papermill": {
     "duration": 0.015687,
     "end_time": "2022-08-17T03:54:04.622877",
     "exception": false,
     "start_time": "2022-08-17T03:54:04.607190",
     "status": "completed"
    },
    "tags": []
   },
   "source": [
    "Now we have two options either delete the station name or find out the 32 least counted names and it's corresponding ids then correct them by ids.\n",
    "\n",
    "For now we will delete the station name because the second option is I think is not the right solution."
   ]
  },
  {
   "cell_type": "code",
   "execution_count": 10,
   "id": "a619b1dd",
   "metadata": {
    "execution": {
     "iopub.execute_input": "2022-08-17T03:54:04.655659Z",
     "iopub.status.busy": "2022-08-17T03:54:04.655254Z",
     "iopub.status.idle": "2022-08-17T03:54:05.731975Z",
     "shell.execute_reply": "2022-08-17T03:54:05.730682Z"
    },
    "papermill": {
     "duration": 1.096178,
     "end_time": "2022-08-17T03:54:05.734476",
     "exception": false,
     "start_time": "2022-08-17T03:54:04.638298",
     "status": "completed"
    },
    "tags": []
   },
   "outputs": [
    {
     "data": {
      "text/html": [
       "<div>\n",
       "<style scoped>\n",
       "    .dataframe tbody tr th:only-of-type {\n",
       "        vertical-align: middle;\n",
       "    }\n",
       "\n",
       "    .dataframe tbody tr th {\n",
       "        vertical-align: top;\n",
       "    }\n",
       "\n",
       "    .dataframe thead th {\n",
       "        text-align: right;\n",
       "    }\n",
       "</style>\n",
       "<table border=\"1\" class=\"dataframe\">\n",
       "  <thead>\n",
       "    <tr style=\"text-align: right;\">\n",
       "      <th></th>\n",
       "      <th>ride_id</th>\n",
       "      <th>rideable_type</th>\n",
       "      <th>member_casual</th>\n",
       "      <th>start_station_id</th>\n",
       "      <th>end_station_id</th>\n",
       "    </tr>\n",
       "  </thead>\n",
       "  <tbody>\n",
       "    <tr>\n",
       "      <th>50</th>\n",
       "      <td>0D904FEC5F84A538</td>\n",
       "      <td>classic_bike</td>\n",
       "      <td>member</td>\n",
       "      <td>TA1306000006</td>\n",
       "      <td>TA1306000006</td>\n",
       "    </tr>\n",
       "    <tr>\n",
       "      <th>51</th>\n",
       "      <td>C4185F300D6B552B</td>\n",
       "      <td>classic_bike</td>\n",
       "      <td>member</td>\n",
       "      <td>TA1306000003</td>\n",
       "      <td>KA1503000043</td>\n",
       "    </tr>\n",
       "    <tr>\n",
       "      <th>53</th>\n",
       "      <td>60F97090AC85F55E</td>\n",
       "      <td>classic_bike</td>\n",
       "      <td>member</td>\n",
       "      <td>TA1307000127</td>\n",
       "      <td>TA1309000014</td>\n",
       "    </tr>\n",
       "    <tr>\n",
       "      <th>56</th>\n",
       "      <td>FBC7B1F0160AA304</td>\n",
       "      <td>classic_bike</td>\n",
       "      <td>member</td>\n",
       "      <td>KA1503000043</td>\n",
       "      <td>TA1306000003</td>\n",
       "    </tr>\n",
       "    <tr>\n",
       "      <th>57</th>\n",
       "      <td>37A52001AEEFA4E5</td>\n",
       "      <td>classic_bike</td>\n",
       "      <td>member</td>\n",
       "      <td>TA1306000003</td>\n",
       "      <td>KA1503000043</td>\n",
       "    </tr>\n",
       "  </tbody>\n",
       "</table>\n",
       "</div>"
      ],
      "text/plain": [
       "             ride_id rideable_type member_casual start_station_id  \\\n",
       "50  0D904FEC5F84A538  classic_bike        member     TA1306000006   \n",
       "51  C4185F300D6B552B  classic_bike        member     TA1306000003   \n",
       "53  60F97090AC85F55E  classic_bike        member     TA1307000127   \n",
       "56  FBC7B1F0160AA304  classic_bike        member     KA1503000043   \n",
       "57  37A52001AEEFA4E5  classic_bike        member     TA1306000003   \n",
       "\n",
       "   end_station_id  \n",
       "50   TA1306000006  \n",
       "51   KA1503000043  \n",
       "53   TA1309000014  \n",
       "56   TA1306000003  \n",
       "57   KA1503000043  "
      ]
     },
     "execution_count": 10,
     "metadata": {},
     "output_type": "execute_result"
    }
   ],
   "source": [
    "# delete station name columns\n",
    "station = station.drop('start_station_name', axis=1)\n",
    "station = station.drop('end_station_name', axis=1)\n",
    "station.head()"
   ]
  },
  {
   "cell_type": "markdown",
   "id": "93064a4f",
   "metadata": {
    "papermill": {
     "duration": 0.015412,
     "end_time": "2022-08-17T03:54:05.765549",
     "exception": false,
     "start_time": "2022-08-17T03:54:05.750137",
     "status": "completed"
    },
    "tags": []
   },
   "source": [
    "### Consistent formatting\n",
    "Here we can easily spot that started_at and ended_at is in object datatype but it should be in datetime format. So convert these two attributes in consistent format."
   ]
  },
  {
   "cell_type": "code",
   "execution_count": 11,
   "id": "ee563a28",
   "metadata": {
    "execution": {
     "iopub.execute_input": "2022-08-17T03:54:05.798840Z",
     "iopub.status.busy": "2022-08-17T03:54:05.798041Z",
     "iopub.status.idle": "2022-08-17T03:54:09.048362Z",
     "shell.execute_reply": "2022-08-17T03:54:09.047130Z"
    },
    "papermill": {
     "duration": 3.270096,
     "end_time": "2022-08-17T03:54:09.051117",
     "exception": false,
     "start_time": "2022-08-17T03:54:05.781021",
     "status": "completed"
    },
    "tags": []
   },
   "outputs": [
    {
     "data": {
      "text/plain": [
       "0   2021-06-13 14:31:28\n",
       "1   2021-06-04 11:18:02\n",
       "Name: started_at, dtype: datetime64[ns]"
      ]
     },
     "execution_count": 11,
     "metadata": {},
     "output_type": "execute_result"
    }
   ],
   "source": [
    "duration[\"started_at\"] = pd.to_datetime(duration[\"started_at\"], format='%Y-%m-%d %H:%M:%S')\n",
    "duration[\"ended_at\"] = pd.to_datetime(duration[\"ended_at\"], format='%Y-%m-%d %H:%M:%S')\n",
    "duration[\"started_at\"].head(2)"
   ]
  },
  {
   "cell_type": "markdown",
   "id": "16712a2b",
   "metadata": {
    "papermill": {
     "duration": 0.015877,
     "end_time": "2022-08-17T03:54:09.083658",
     "exception": false,
     "start_time": "2022-08-17T03:54:09.067781",
     "status": "completed"
    },
    "tags": []
   },
   "source": [
    "### Data Manipulation\n",
    "1. Add three columns *in_sec*, _weekday_, _day_ and _month_ in _duration_ dataset. \n",
    "2. Add a column *in_km* in _geoloc_ dataset.\n",
    "3. Add a *home_station* and _path_ in _station_ dataset.\n",
    "\n",
    "The **in_sec** column is the difference of the started_at and ended_at datetime in seconds."
   ]
  },
  {
   "cell_type": "code",
   "execution_count": 12,
   "id": "d21b79ff",
   "metadata": {
    "execution": {
     "iopub.execute_input": "2022-08-17T03:54:09.117508Z",
     "iopub.status.busy": "2022-08-17T03:54:09.116606Z",
     "iopub.status.idle": "2022-08-17T03:54:12.565675Z",
     "shell.execute_reply": "2022-08-17T03:54:12.564508Z"
    },
    "papermill": {
     "duration": 3.46922,
     "end_time": "2022-08-17T03:54:12.568679",
     "exception": false,
     "start_time": "2022-08-17T03:54:09.099459",
     "status": "completed"
    },
    "tags": []
   },
   "outputs": [
    {
     "data": {
      "text/html": [
       "<div>\n",
       "<style scoped>\n",
       "    .dataframe tbody tr th:only-of-type {\n",
       "        vertical-align: middle;\n",
       "    }\n",
       "\n",
       "    .dataframe tbody tr th {\n",
       "        vertical-align: top;\n",
       "    }\n",
       "\n",
       "    .dataframe thead th {\n",
       "        text-align: right;\n",
       "    }\n",
       "</style>\n",
       "<table border=\"1\" class=\"dataframe\">\n",
       "  <thead>\n",
       "    <tr style=\"text-align: right;\">\n",
       "      <th></th>\n",
       "      <th>ride_id</th>\n",
       "      <th>rideable_type</th>\n",
       "      <th>member_casual</th>\n",
       "      <th>started_at</th>\n",
       "      <th>ended_at</th>\n",
       "      <th>weekday</th>\n",
       "      <th>day</th>\n",
       "      <th>month</th>\n",
       "      <th>in_sec</th>\n",
       "    </tr>\n",
       "  </thead>\n",
       "  <tbody>\n",
       "    <tr>\n",
       "      <th>0</th>\n",
       "      <td>99FEC93BA843FB20</td>\n",
       "      <td>electric_bike</td>\n",
       "      <td>member</td>\n",
       "      <td>2021-06-13 14:31:28</td>\n",
       "      <td>2021-06-13 14:34:11</td>\n",
       "      <td>Sunday</td>\n",
       "      <td>13</td>\n",
       "      <td>6</td>\n",
       "      <td>163.0</td>\n",
       "    </tr>\n",
       "    <tr>\n",
       "      <th>1</th>\n",
       "      <td>06048DCFC8520CAF</td>\n",
       "      <td>electric_bike</td>\n",
       "      <td>member</td>\n",
       "      <td>2021-06-04 11:18:02</td>\n",
       "      <td>2021-06-04 11:24:19</td>\n",
       "      <td>Friday</td>\n",
       "      <td>4</td>\n",
       "      <td>6</td>\n",
       "      <td>377.0</td>\n",
       "    </tr>\n",
       "    <tr>\n",
       "      <th>2</th>\n",
       "      <td>9598066F68045DF2</td>\n",
       "      <td>electric_bike</td>\n",
       "      <td>member</td>\n",
       "      <td>2021-06-04 09:49:35</td>\n",
       "      <td>2021-06-04 09:55:34</td>\n",
       "      <td>Friday</td>\n",
       "      <td>4</td>\n",
       "      <td>6</td>\n",
       "      <td>359.0</td>\n",
       "    </tr>\n",
       "    <tr>\n",
       "      <th>3</th>\n",
       "      <td>B03C0FE48C412214</td>\n",
       "      <td>electric_bike</td>\n",
       "      <td>member</td>\n",
       "      <td>2021-06-03 19:56:05</td>\n",
       "      <td>2021-06-03 20:21:55</td>\n",
       "      <td>Thursday</td>\n",
       "      <td>3</td>\n",
       "      <td>6</td>\n",
       "      <td>1550.0</td>\n",
       "    </tr>\n",
       "    <tr>\n",
       "      <th>4</th>\n",
       "      <td>B9EEA89F8FEE73B7</td>\n",
       "      <td>electric_bike</td>\n",
       "      <td>member</td>\n",
       "      <td>2021-06-04 14:05:51</td>\n",
       "      <td>2021-06-04 14:09:59</td>\n",
       "      <td>Friday</td>\n",
       "      <td>4</td>\n",
       "      <td>6</td>\n",
       "      <td>248.0</td>\n",
       "    </tr>\n",
       "  </tbody>\n",
       "</table>\n",
       "</div>"
      ],
      "text/plain": [
       "            ride_id  rideable_type member_casual          started_at  \\\n",
       "0  99FEC93BA843FB20  electric_bike        member 2021-06-13 14:31:28   \n",
       "1  06048DCFC8520CAF  electric_bike        member 2021-06-04 11:18:02   \n",
       "2  9598066F68045DF2  electric_bike        member 2021-06-04 09:49:35   \n",
       "3  B03C0FE48C412214  electric_bike        member 2021-06-03 19:56:05   \n",
       "4  B9EEA89F8FEE73B7  electric_bike        member 2021-06-04 14:05:51   \n",
       "\n",
       "             ended_at   weekday  day  month  in_sec  \n",
       "0 2021-06-13 14:34:11    Sunday   13      6   163.0  \n",
       "1 2021-06-04 11:24:19    Friday    4      6   377.0  \n",
       "2 2021-06-04 09:55:34    Friday    4      6   359.0  \n",
       "3 2021-06-03 20:21:55  Thursday    3      6  1550.0  \n",
       "4 2021-06-04 14:09:59    Friday    4      6   248.0  "
      ]
     },
     "execution_count": 12,
     "metadata": {},
     "output_type": "execute_result"
    }
   ],
   "source": [
    "# start with duration dataset\n",
    "duration[\"weekday\"] = duration[\"started_at\"].dt.day_name()\n",
    "duration[\"day\"] = duration[\"started_at\"].dt.day\n",
    "duration[\"month\"] = duration[\"started_at\"].dt.month\n",
    "duration[\"in_sec\"] = (duration[\"ended_at\"]-duration[\"started_at\"]).dt.total_seconds()\n",
    "duration.head()"
   ]
  },
  {
   "cell_type": "code",
   "execution_count": 13,
   "id": "f875b018",
   "metadata": {
    "execution": {
     "iopub.execute_input": "2022-08-17T03:54:12.602783Z",
     "iopub.status.busy": "2022-08-17T03:54:12.602398Z",
     "iopub.status.idle": "2022-08-17T03:54:13.563778Z",
     "shell.execute_reply": "2022-08-17T03:54:13.562593Z"
    },
    "papermill": {
     "duration": 0.981344,
     "end_time": "2022-08-17T03:54:13.566325",
     "exception": false,
     "start_time": "2022-08-17T03:54:12.584981",
     "status": "completed"
    },
    "tags": []
   },
   "outputs": [
    {
     "data": {
      "text/html": [
       "<div>\n",
       "<style scoped>\n",
       "    .dataframe tbody tr th:only-of-type {\n",
       "        vertical-align: middle;\n",
       "    }\n",
       "\n",
       "    .dataframe tbody tr th {\n",
       "        vertical-align: top;\n",
       "    }\n",
       "\n",
       "    .dataframe thead th {\n",
       "        text-align: right;\n",
       "    }\n",
       "</style>\n",
       "<table border=\"1\" class=\"dataframe\">\n",
       "  <thead>\n",
       "    <tr style=\"text-align: right;\">\n",
       "      <th></th>\n",
       "      <th>ride_id</th>\n",
       "      <th>rideable_type</th>\n",
       "      <th>member_casual</th>\n",
       "      <th>start_lat</th>\n",
       "      <th>start_lng</th>\n",
       "      <th>end_lat</th>\n",
       "      <th>end_lng</th>\n",
       "      <th>in_km</th>\n",
       "    </tr>\n",
       "  </thead>\n",
       "  <tbody>\n",
       "    <tr>\n",
       "      <th>0</th>\n",
       "      <td>99FEC93BA843FB20</td>\n",
       "      <td>electric_bike</td>\n",
       "      <td>member</td>\n",
       "      <td>41.80</td>\n",
       "      <td>-87.59</td>\n",
       "      <td>41.80</td>\n",
       "      <td>-87.60</td>\n",
       "      <td>0.828931</td>\n",
       "    </tr>\n",
       "    <tr>\n",
       "      <th>1</th>\n",
       "      <td>06048DCFC8520CAF</td>\n",
       "      <td>electric_bike</td>\n",
       "      <td>member</td>\n",
       "      <td>41.79</td>\n",
       "      <td>-87.59</td>\n",
       "      <td>41.80</td>\n",
       "      <td>-87.60</td>\n",
       "      <td>1.386963</td>\n",
       "    </tr>\n",
       "    <tr>\n",
       "      <th>2</th>\n",
       "      <td>9598066F68045DF2</td>\n",
       "      <td>electric_bike</td>\n",
       "      <td>member</td>\n",
       "      <td>41.80</td>\n",
       "      <td>-87.60</td>\n",
       "      <td>41.79</td>\n",
       "      <td>-87.59</td>\n",
       "      <td>1.386963</td>\n",
       "    </tr>\n",
       "    <tr>\n",
       "      <th>3</th>\n",
       "      <td>B03C0FE48C412214</td>\n",
       "      <td>electric_bike</td>\n",
       "      <td>member</td>\n",
       "      <td>41.78</td>\n",
       "      <td>-87.58</td>\n",
       "      <td>41.80</td>\n",
       "      <td>-87.60</td>\n",
       "      <td>2.774003</td>\n",
       "    </tr>\n",
       "    <tr>\n",
       "      <th>4</th>\n",
       "      <td>B9EEA89F8FEE73B7</td>\n",
       "      <td>electric_bike</td>\n",
       "      <td>member</td>\n",
       "      <td>41.80</td>\n",
       "      <td>-87.59</td>\n",
       "      <td>41.79</td>\n",
       "      <td>-87.59</td>\n",
       "      <td>1.111949</td>\n",
       "    </tr>\n",
       "  </tbody>\n",
       "</table>\n",
       "</div>"
      ],
      "text/plain": [
       "            ride_id  rideable_type member_casual  start_lat  start_lng  \\\n",
       "0  99FEC93BA843FB20  electric_bike        member      41.80     -87.59   \n",
       "1  06048DCFC8520CAF  electric_bike        member      41.79     -87.59   \n",
       "2  9598066F68045DF2  electric_bike        member      41.80     -87.60   \n",
       "3  B03C0FE48C412214  electric_bike        member      41.78     -87.58   \n",
       "4  B9EEA89F8FEE73B7  electric_bike        member      41.80     -87.59   \n",
       "\n",
       "   end_lat  end_lng     in_km  \n",
       "0    41.80   -87.60  0.828931  \n",
       "1    41.80   -87.60  1.386963  \n",
       "2    41.79   -87.59  1.386963  \n",
       "3    41.80   -87.60  2.774003  \n",
       "4    41.79   -87.59  1.111949  "
      ]
     },
     "execution_count": 13,
     "metadata": {},
     "output_type": "execute_result"
    }
   ],
   "source": [
    "# now work with geoloc\n",
    "# convert lat and lng into km\n",
    "lat1, lon1 = geoloc[\"start_lat\"], geoloc[\"start_lng\"]\n",
    "lat2, lon2 = geoloc[\"end_lat\"], geoloc[\"end_lng\"]\n",
    "radius = 6371  # km\n",
    "\n",
    "dlat = np.radians(lat2 - lat1)\n",
    "dlon = np.radians(lon2 - lon1)\n",
    "a = (np.sin(dlat / 2) * np.sin(dlat / 2) +\n",
    "     np.cos(np.radians(lat1)) * np.cos(np.radians(lat2)) *\n",
    "     np.sin(dlon / 2) * np.sin(dlon / 2))\n",
    "c = 2 * np.arctan2(np.sqrt(a), np.sqrt(1 - a))\n",
    "distance = radius * c\n",
    "\n",
    "geoloc[\"in_km\"] = distance\n",
    "geoloc.head()"
   ]
  },
  {
   "cell_type": "code",
   "execution_count": 14,
   "id": "1e403a2f",
   "metadata": {
    "execution": {
     "iopub.execute_input": "2022-08-17T03:54:13.601990Z",
     "iopub.status.busy": "2022-08-17T03:54:13.601536Z",
     "iopub.status.idle": "2022-08-17T03:55:02.231773Z",
     "shell.execute_reply": "2022-08-17T03:55:02.230397Z"
    },
    "papermill": {
     "duration": 48.666329,
     "end_time": "2022-08-17T03:55:02.249743",
     "exception": false,
     "start_time": "2022-08-17T03:54:13.583414",
     "status": "completed"
    },
    "tags": []
   },
   "outputs": [
    {
     "data": {
      "text/html": [
       "<div>\n",
       "<style scoped>\n",
       "    .dataframe tbody tr th:only-of-type {\n",
       "        vertical-align: middle;\n",
       "    }\n",
       "\n",
       "    .dataframe tbody tr th {\n",
       "        vertical-align: top;\n",
       "    }\n",
       "\n",
       "    .dataframe thead th {\n",
       "        text-align: right;\n",
       "    }\n",
       "</style>\n",
       "<table border=\"1\" class=\"dataframe\">\n",
       "  <thead>\n",
       "    <tr style=\"text-align: right;\">\n",
       "      <th></th>\n",
       "      <th>ride_id</th>\n",
       "      <th>rideable_type</th>\n",
       "      <th>member_casual</th>\n",
       "      <th>start_station_id</th>\n",
       "      <th>end_station_id</th>\n",
       "      <th>home_station</th>\n",
       "      <th>path</th>\n",
       "    </tr>\n",
       "  </thead>\n",
       "  <tbody>\n",
       "    <tr>\n",
       "      <th>50</th>\n",
       "      <td>0D904FEC5F84A538</td>\n",
       "      <td>classic_bike</td>\n",
       "      <td>member</td>\n",
       "      <td>TA1306000006</td>\n",
       "      <td>TA1306000006</td>\n",
       "      <td>1</td>\n",
       "      <td>TA1306000006-TA1306000006</td>\n",
       "    </tr>\n",
       "    <tr>\n",
       "      <th>51</th>\n",
       "      <td>C4185F300D6B552B</td>\n",
       "      <td>classic_bike</td>\n",
       "      <td>member</td>\n",
       "      <td>TA1306000003</td>\n",
       "      <td>KA1503000043</td>\n",
       "      <td>0</td>\n",
       "      <td>TA1306000003-KA1503000043</td>\n",
       "    </tr>\n",
       "    <tr>\n",
       "      <th>53</th>\n",
       "      <td>60F97090AC85F55E</td>\n",
       "      <td>classic_bike</td>\n",
       "      <td>member</td>\n",
       "      <td>TA1307000127</td>\n",
       "      <td>TA1309000014</td>\n",
       "      <td>0</td>\n",
       "      <td>TA1307000127-TA1309000014</td>\n",
       "    </tr>\n",
       "    <tr>\n",
       "      <th>56</th>\n",
       "      <td>FBC7B1F0160AA304</td>\n",
       "      <td>classic_bike</td>\n",
       "      <td>member</td>\n",
       "      <td>KA1503000043</td>\n",
       "      <td>TA1306000003</td>\n",
       "      <td>0</td>\n",
       "      <td>KA1503000043-TA1306000003</td>\n",
       "    </tr>\n",
       "    <tr>\n",
       "      <th>57</th>\n",
       "      <td>37A52001AEEFA4E5</td>\n",
       "      <td>classic_bike</td>\n",
       "      <td>member</td>\n",
       "      <td>TA1306000003</td>\n",
       "      <td>KA1503000043</td>\n",
       "      <td>0</td>\n",
       "      <td>TA1306000003-KA1503000043</td>\n",
       "    </tr>\n",
       "  </tbody>\n",
       "</table>\n",
       "</div>"
      ],
      "text/plain": [
       "             ride_id rideable_type member_casual start_station_id  \\\n",
       "50  0D904FEC5F84A538  classic_bike        member     TA1306000006   \n",
       "51  C4185F300D6B552B  classic_bike        member     TA1306000003   \n",
       "53  60F97090AC85F55E  classic_bike        member     TA1307000127   \n",
       "56  FBC7B1F0160AA304  classic_bike        member     KA1503000043   \n",
       "57  37A52001AEEFA4E5  classic_bike        member     TA1306000003   \n",
       "\n",
       "   end_station_id  home_station                       path  \n",
       "50   TA1306000006             1  TA1306000006-TA1306000006  \n",
       "51   KA1503000043             0  TA1306000003-KA1503000043  \n",
       "53   TA1309000014             0  TA1307000127-TA1309000014  \n",
       "56   TA1306000003             0  KA1503000043-TA1306000003  \n",
       "57   KA1503000043             0  TA1306000003-KA1503000043  "
      ]
     },
     "execution_count": 14,
     "metadata": {},
     "output_type": "execute_result"
    }
   ],
   "source": [
    "station['home_station'] = [1 if x==y else 0 for x,y in zip(station['start_station_id'], station['end_station_id'])]\n",
    "station['path'] = station[['start_station_id', 'end_station_id']].apply(lambda x: '-'.join(x), axis=1)\n",
    "station.head()"
   ]
  },
  {
   "cell_type": "markdown",
   "id": "4025c8cc",
   "metadata": {
    "papermill": {
     "duration": 0.016408,
     "end_time": "2022-08-17T03:55:02.282926",
     "exception": false,
     "start_time": "2022-08-17T03:55:02.266518",
     "status": "completed"
    },
    "tags": []
   },
   "source": [
    "### Outlier\n",
    "During analysis in _geoloc dataset_ I found that their a value which acts as an outlier where the new column **in_km** drived from __Lattitude and Longitude columns__ have a value of __1189.39__. So, we're removing this outlier which can affect our analysis. "
   ]
  },
  {
   "cell_type": "code",
   "execution_count": 15,
   "id": "67bbbdf0",
   "metadata": {
    "execution": {
     "iopub.execute_input": "2022-08-17T03:55:02.318929Z",
     "iopub.status.busy": "2022-08-17T03:55:02.318128Z",
     "iopub.status.idle": "2022-08-17T03:55:03.199136Z",
     "shell.execute_reply": "2022-08-17T03:55:03.197945Z"
    },
    "papermill": {
     "duration": 0.90219,
     "end_time": "2022-08-17T03:55:03.201929",
     "exception": false,
     "start_time": "2022-08-17T03:55:02.299739",
     "status": "completed"
    },
    "tags": []
   },
   "outputs": [],
   "source": [
    "# only keep the observation in geoloc dataset whose: \n",
    "# 'in_km' < 150\n",
    "geoloc = geoloc[geoloc['in_km'] < 150]"
   ]
  },
  {
   "cell_type": "markdown",
   "id": "e0ec3eab",
   "metadata": {
    "papermill": {
     "duration": 0.016359,
     "end_time": "2022-08-17T03:55:03.235343",
     "exception": false,
     "start_time": "2022-08-17T03:55:03.218984",
     "status": "completed"
    },
    "tags": []
   },
   "source": [
    "Same as Geoloc dataset we also found there are 139 observations in Duration dataset where in_sec is less than 0 which is not possible, So we will remove those observations"
   ]
  },
  {
   "cell_type": "code",
   "execution_count": 16,
   "id": "aee47ad9",
   "metadata": {
    "execution": {
     "iopub.execute_input": "2022-08-17T03:55:03.270592Z",
     "iopub.status.busy": "2022-08-17T03:55:03.269863Z",
     "iopub.status.idle": "2022-08-17T03:55:05.341960Z",
     "shell.execute_reply": "2022-08-17T03:55:05.340572Z"
    },
    "papermill": {
     "duration": 2.092956,
     "end_time": "2022-08-17T03:55:05.344842",
     "exception": false,
     "start_time": "2022-08-17T03:55:03.251886",
     "status": "completed"
    },
    "tags": []
   },
   "outputs": [],
   "source": [
    "# only keep the observation in duration dataset whose: \n",
    "# 'in_sec' > 0\n",
    "duration = duration[duration['in_sec'] >= 0]"
   ]
  },
  {
   "cell_type": "markdown",
   "id": "9752c4da",
   "metadata": {
    "papermill": {
     "duration": 0.016357,
     "end_time": "2022-08-17T03:55:05.377979",
     "exception": false,
     "start_time": "2022-08-17T03:55:05.361622",
     "status": "completed"
    },
    "tags": []
   },
   "source": [
    "# Analyze\n",
    "Now we have 4 basic question to answer to know how annual members and casual riders use bikes differently:\n",
    "1. Top paths and stations\n",
    "2. Bike priority \n",
    "3. Distance and durations\n",
    "4. Most traffic on weekdays/days/months\n",
    "\n",
    "Before we proceed to these steps we have to first know the __Total Numbers of Annual Members and Casual Riders__."
   ]
  },
  {
   "cell_type": "code",
   "execution_count": 17,
   "id": "fdc146f3",
   "metadata": {
    "execution": {
     "iopub.execute_input": "2022-08-17T03:55:05.412563Z",
     "iopub.status.busy": "2022-08-17T03:55:05.412142Z",
     "iopub.status.idle": "2022-08-17T03:56:27.472117Z",
     "shell.execute_reply": "2022-08-17T03:56:27.470874Z"
    },
    "papermill": {
     "duration": 82.080225,
     "end_time": "2022-08-17T03:56:27.474616",
     "exception": false,
     "start_time": "2022-08-17T03:55:05.394391",
     "status": "completed"
    },
    "tags": []
   },
   "outputs": [
    {
     "data": {
      "text/plain": [
       "<AxesSubplot:>"
      ]
     },
     "execution_count": 17,
     "metadata": {},
     "output_type": "execute_result"
    },
    {
     "data": {
      "image/png": "[encoded data removed]",
      "text/plain": [
       "<Figure size 432x288 with 1 Axes>"
      ]
     },
     "metadata": {
      "needs_background": "light"
     },
     "output_type": "display_data"
    }
   ],
   "source": [
    "## In recent_year dataset\n",
    "# data group by 'ride_id'\n",
    "# find the len\n",
    "# where 'member_casual' = 'member'\n",
    "total_member = len(recent_year[recent_year[\"member_casual\"]=='member'].groupby('ride_id'))\n",
    "\n",
    "# where 'member_casual' = 'casual'\n",
    "total_casual = len(recent_year[recent_year[\"member_casual\"]=='casual'].groupby('ride_id'))\n",
    "\n",
    "# Prepare data\n",
    "usertype = ['Member', 'Casual']\n",
    "total = [total_member, total_casual]\n",
    "\n",
    "sns.barplot(x=usertype,\n",
    "            y=total)"
   ]
  },
  {
   "cell_type": "markdown",
   "id": "d6d2951f",
   "metadata": {
    "papermill": {
     "duration": 0.016505,
     "end_time": "2022-08-17T03:56:27.508027",
     "exception": false,
     "start_time": "2022-08-17T03:56:27.491522",
     "status": "completed"
    },
    "tags": []
   },
   "source": [
    "### 1. Top paths and stations\n",
    "For this analysis we will use two datasets which are __stations__ for stations and __geoloc__ for paths."
   ]
  },
  {
   "cell_type": "code",
   "execution_count": 18,
   "id": "2efc120d",
   "metadata": {
    "execution": {
     "iopub.execute_input": "2022-08-17T03:56:27.543754Z",
     "iopub.status.busy": "2022-08-17T03:56:27.543090Z",
     "iopub.status.idle": "2022-08-17T03:56:35.800341Z",
     "shell.execute_reply": "2022-08-17T03:56:35.799394Z"
    },
    "papermill": {
     "duration": 8.278185,
     "end_time": "2022-08-17T03:56:35.802944",
     "exception": false,
     "start_time": "2022-08-17T03:56:27.524759",
     "status": "completed"
    },
    "tags": []
   },
   "outputs": [],
   "source": [
    "# top 15 most traffic stations\n",
    "top_stations = station.groupby('start_station_id').count().sort_values(by='ride_id', ascending=False).head(15)\n",
    "top_stations_count = top_stations.ride_id.values\n",
    "top_stations_id = top_stations.index.values\n",
    "# then count the member and casual from those stations\n",
    "casual, member = [], []\n",
    "for x in top_stations_id:\n",
    "    trial = station[station['start_station_id']==x].pivot_table(index='member_casual',\n",
    "                                                                      aggfunc='count',\n",
    "                                                                      values='ride_id')\n",
    "    casual.append(trial['ride_id'][0])\n",
    "    member.append(trial['ride_id'][1])\n",
    "\n",
    "top_station_traffic = pd.DataFrame()\n",
    "top_station_traffic['station_id'] = top_stations_id\n",
    "top_station_traffic['casual'] = casual\n",
    "top_station_traffic['member'] = member\n",
    "top_station_traffic['station_count'] = top_stations_count"
   ]
  },
  {
   "cell_type": "code",
   "execution_count": 19,
   "id": "9ad68698",
   "metadata": {
    "execution": {
     "iopub.execute_input": "2022-08-17T03:56:35.839658Z",
     "iopub.status.busy": "2022-08-17T03:56:35.838519Z",
     "iopub.status.idle": "2022-08-17T03:56:38.499502Z",
     "shell.execute_reply": "2022-08-17T03:56:38.498372Z"
    },
    "papermill": {
     "duration": 2.682,
     "end_time": "2022-08-17T03:56:38.502226",
     "exception": false,
     "start_time": "2022-08-17T03:56:35.820226",
     "status": "completed"
    },
    "tags": []
   },
   "outputs": [],
   "source": [
    "start_station_distribution = station.pivot_table(index='start_station_id', \n",
    "                                                 columns='member_casual', \n",
    "                                                 aggfunc='count',\n",
    "                                                 values='ride_id')\n",
    "end_station_distribution = station.pivot_table(index='end_station_id', \n",
    "                                               columns='member_casual', \n",
    "                                               aggfunc='count',\n",
    "                                               values='ride_id')"
   ]
  },
  {
   "cell_type": "markdown",
   "id": "681f799a",
   "metadata": {
    "papermill": {
     "duration": 0.016682,
     "end_time": "2022-08-17T03:56:38.536359",
     "exception": false,
     "start_time": "2022-08-17T03:56:38.519677",
     "status": "completed"
    },
    "tags": []
   },
   "source": [
    "**Top 10 stations where casual riders starts their trip**"
   ]
  },
  {
   "cell_type": "code",
   "execution_count": 20,
   "id": "34e724a3",
   "metadata": {
    "execution": {
     "iopub.execute_input": "2022-08-17T03:56:38.571984Z",
     "iopub.status.busy": "2022-08-17T03:56:38.571528Z",
     "iopub.status.idle": "2022-08-17T03:56:38.832992Z",
     "shell.execute_reply": "2022-08-17T03:56:38.831669Z"
    },
    "papermill": {
     "duration": 0.282456,
     "end_time": "2022-08-17T03:56:38.835675",
     "exception": false,
     "start_time": "2022-08-17T03:56:38.553219",
     "status": "completed"
    },
    "tags": []
   },
   "outputs": [
    {
     "data": {
      "image/png": "[encoded data removed]",
      "text/plain": [
       "<Figure size 432x288 with 1 Axes>"
      ]
     },
     "metadata": {},
     "output_type": "display_data"
    }
   ],
   "source": [
    "top_casual_start_station = start_station_distribution['casual'].sort_values(ascending=False).head(10)\n",
    "\n",
    "# Set Seaborn style\n",
    "sns.set(style='darkgrid', color_codes=True)\n",
    "pal = sns.color_palette(\"Greens_d\", len(top_casual_start_station))\n",
    "rank = top_casual_start_station.argsort().argsort()\n",
    "\n",
    "# Construct plot\n",
    "sns.barplot(y = top_casual_start_station.index.values, \n",
    "            x = top_casual_start_station.values,\n",
    "            palette=np.array(pal)[rank])\n",
    "plt.show()"
   ]
  },
  {
   "cell_type": "markdown",
   "id": "10349055",
   "metadata": {
    "papermill": {
     "duration": 0.016807,
     "end_time": "2022-08-17T03:56:38.869651",
     "exception": false,
     "start_time": "2022-08-17T03:56:38.852844",
     "status": "completed"
    },
    "tags": []
   },
   "source": [
    "**Top 10 stations where annual members starts their trip**"
   ]
  },
  {
   "cell_type": "code",
   "execution_count": 21,
   "id": "47c2daec",
   "metadata": {
    "execution": {
     "iopub.execute_input": "2022-08-17T03:56:38.906216Z",
     "iopub.status.busy": "2022-08-17T03:56:38.905789Z",
     "iopub.status.idle": "2022-08-17T03:56:39.156269Z",
     "shell.execute_reply": "2022-08-17T03:56:39.154894Z"
    },
    "papermill": {
     "duration": 0.272019,
     "end_time": "2022-08-17T03:56:39.158756",
     "exception": false,
     "start_time": "2022-08-17T03:56:38.886737",
     "status": "completed"
    },
    "tags": []
   },
   "outputs": [
    {
     "data": {
      "image/png": "[encoded data removed]",
      "text/plain": [
       "<Figure size 432x288 with 1 Axes>"
      ]
     },
     "metadata": {},
     "output_type": "display_data"
    }
   ],
   "source": [
    "top_member_start_station = start_station_distribution['member'].sort_values(ascending=False).head(10)\n",
    "\n",
    "# Set Seaborn style\n",
    "sns.set(style='darkgrid', color_codes=True)\n",
    "pal = sns.color_palette(\"Greens_d\", len(top_member_start_station))\n",
    "rank = top_member_start_station.argsort().argsort()\n",
    "\n",
    "# Construct plot\n",
    "sns.barplot(y = top_member_start_station.index.values, \n",
    "            x = top_member_start_station.values,\n",
    "            palette=np.array(pal)[rank])\n",
    "plt.show()"
   ]
  },
  {
   "cell_type": "markdown",
   "id": "3bddd696",
   "metadata": {
    "papermill": {
     "duration": 0.017282,
     "end_time": "2022-08-17T03:56:39.194182",
     "exception": false,
     "start_time": "2022-08-17T03:56:39.176900",
     "status": "completed"
    },
    "tags": []
   },
   "source": [
    "**Top 10 stations where casual riders ends their trip**"
   ]
  },
  {
   "cell_type": "code",
   "execution_count": 22,
   "id": "6987caeb",
   "metadata": {
    "execution": {
     "iopub.execute_input": "2022-08-17T03:56:39.230900Z",
     "iopub.status.busy": "2022-08-17T03:56:39.230480Z",
     "iopub.status.idle": "2022-08-17T03:56:39.495271Z",
     "shell.execute_reply": "2022-08-17T03:56:39.494179Z"
    },
    "papermill": {
     "duration": 0.28609,
     "end_time": "2022-08-17T03:56:39.497739",
     "exception": false,
     "start_time": "2022-08-17T03:56:39.211649",
     "status": "completed"
    },
    "tags": []
   },
   "outputs": [
    {
     "data": {
      "image/png": "[encoded data removed]",
      "text/plain": [
       "<Figure size 432x288 with 1 Axes>"
      ]
     },
     "metadata": {},
     "output_type": "display_data"
    }
   ],
   "source": [
    "top_casual_end_station = end_station_distribution['casual'].sort_values(ascending=False).head(10)\n",
    "\n",
    "# Set Seaborn style\n",
    "sns.set(style='darkgrid', color_codes=True)\n",
    "pal = sns.color_palette(\"Greens_d\", len(top_casual_end_station))\n",
    "rank = top_casual_end_station.argsort().argsort()\n",
    "\n",
    "# Construct plot\n",
    "sns.barplot(y = top_casual_end_station.index.values, \n",
    "            x = top_casual_end_station.values,\n",
    "            palette=np.array(pal)[rank])\n",
    "plt.show()"
   ]
  },
  {
   "cell_type": "markdown",
   "id": "1923c8fb",
   "metadata": {
    "papermill": {
     "duration": 0.01734,
     "end_time": "2022-08-17T03:56:39.532696",
     "exception": false,
     "start_time": "2022-08-17T03:56:39.515356",
     "status": "completed"
    },
    "tags": []
   },
   "source": [
    "**Top 10 stations where annual members ends their trip**"
   ]
  },
  {
   "cell_type": "code",
   "execution_count": 23,
   "id": "4e8d59c9",
   "metadata": {
    "execution": {
     "iopub.execute_input": "2022-08-17T03:56:39.570195Z",
     "iopub.status.busy": "2022-08-17T03:56:39.569485Z",
     "iopub.status.idle": "2022-08-17T03:56:39.819059Z",
     "shell.execute_reply": "2022-08-17T03:56:39.817773Z"
    },
    "papermill": {
     "duration": 0.271382,
     "end_time": "2022-08-17T03:56:39.821728",
     "exception": false,
     "start_time": "2022-08-17T03:56:39.550346",
     "status": "completed"
    },
    "tags": []
   },
   "outputs": [
    {
     "data": {
      "image/png": "[encoded data removed]",
      "text/plain": [
       "<Figure size 432x288 with 1 Axes>"
      ]
     },
     "metadata": {},
     "output_type": "display_data"
    }
   ],
   "source": [
    "top_member_end_station = end_station_distribution['member'].sort_values(ascending=False).head(10)\n",
    "\n",
    "# Set Seaborn style\n",
    "sns.set(style='darkgrid', color_codes=True)\n",
    "pal = sns.color_palette(\"Greens_d\", len(top_member_end_station))\n",
    "rank = top_member_end_station.argsort().argsort()\n",
    "\n",
    "# Construct plot\n",
    "sns.barplot(y = top_member_end_station.index.values, \n",
    "            x = top_member_end_station.values,\n",
    "            palette=np.array(pal)[rank])\n",
    "plt.show()"
   ]
  },
  {
   "cell_type": "markdown",
   "id": "469aedbb",
   "metadata": {
    "papermill": {
     "duration": 0.017895,
     "end_time": "2022-08-17T03:56:39.858006",
     "exception": false,
     "start_time": "2022-08-17T03:56:39.840111",
     "status": "completed"
    },
    "tags": []
   },
   "source": [
    "Now we want to know the home stations of the members and casual riders both.\n",
    "\n",
    "So, first extract the distribution of home stations between members and casual riders."
   ]
  },
  {
   "cell_type": "code",
   "execution_count": 24,
   "id": "30cdae08",
   "metadata": {
    "execution": {
     "iopub.execute_input": "2022-08-17T03:56:39.896270Z",
     "iopub.status.busy": "2022-08-17T03:56:39.895634Z",
     "iopub.status.idle": "2022-08-17T03:56:40.076532Z",
     "shell.execute_reply": "2022-08-17T03:56:40.075204Z"
    },
    "papermill": {
     "duration": 0.203553,
     "end_time": "2022-08-17T03:56:40.079534",
     "exception": false,
     "start_time": "2022-08-17T03:56:39.875981",
     "status": "completed"
    },
    "tags": []
   },
   "outputs": [],
   "source": [
    "home_station_distribution = station[station['home_station']==1].pivot_table(index='start_station_id', \n",
    "                                                                            columns='member_casual', \n",
    "                                                                            aggfunc='count',\n",
    "                                                                            values='ride_id')"
   ]
  },
  {
   "cell_type": "markdown",
   "id": "106918e7",
   "metadata": {
    "papermill": {
     "duration": 0.018202,
     "end_time": "2022-08-17T03:56:40.116322",
     "exception": false,
     "start_time": "2022-08-17T03:56:40.098120",
     "status": "completed"
    },
    "tags": []
   },
   "source": [
    "**Top 50 home stations of annual members**"
   ]
  },
  {
   "cell_type": "code",
   "execution_count": 25,
   "id": "322c2956",
   "metadata": {
    "execution": {
     "iopub.execute_input": "2022-08-17T03:56:40.154697Z",
     "iopub.status.busy": "2022-08-17T03:56:40.154230Z",
     "iopub.status.idle": "2022-08-17T03:56:59.533603Z",
     "shell.execute_reply": "2022-08-17T03:56:59.532239Z"
    },
    "papermill": {
     "duration": 19.401597,
     "end_time": "2022-08-17T03:56:59.536101",
     "exception": false,
     "start_time": "2022-08-17T03:56:40.134504",
     "status": "completed"
    },
    "tags": []
   },
   "outputs": [
    {
     "data": {
      "text/html": [
       "        <script type=\"text/javascript\">\n",
       "        window.PlotlyConfig = {MathJaxConfig: 'local'};\n",
       "        if (window.MathJax && window.MathJax.Hub && window.MathJax.Hub.Config) {window.MathJax.Hub.Config({SVG: {font: \"STIX-Web\"}});}\n",
       "        if (typeof require !== 'undefined') {\n",
       "        require.undef(\"plotly\");\n",
       "        requirejs.config({\n",
       "            paths: {\n",
       "                'plotly': ['https://cdn.plot.ly/plotly-2.12.1.min']\n",
       "            }\n",
       "        });\n",
       "        require(['plotly'], function(Plotly) {\n",
       "            window._Plotly = Plotly;\n",
       "        });\n",
       "        }\n",
       "        </script>\n",
       "        "
      ]
     },
     "metadata": {},
     "output_type": "display_data"
    },
    {
     "data": {
      "text/html": [
       "<div>                            <div id=\"ede6518e-469c-42e2-a1c6-5d6e6dbb84ae\" class=\"plotly-graph-div\" style=\"height:525px; width:100%;\"></div>            <script type=\"text/javascript\">                require([\"plotly\"], function(Plotly) {                    window.PLOTLYENV=window.PLOTLYENV || {};                                    if (document.getElementById(\"ede6518e-469c-42e2-a1c6-5d6e6dbb84ae\")) {                    Plotly.newPlot(                        \"ede6518e-469c-42e2-a1c6-5d6e6dbb84ae\",                        [{\"customdata\":[[41.892278,-87.612043,1381.0],[41.911722,-87.626804,1035.0],[41.78509714636,-87.6010727606,967.0],[41.872187,-87.661501,948.0],[41.791478,-87.599861,855.0],[41.902973,-87.63128,799.0],[41.9366884494997,-87.63682901859283,786.0],[41.92627866666667,-87.63089283333333,764.0],[41.90096,-87.623777,762.0],[41.93758231600629,-87.6440978050232,755.0],[41.918306,-87.636282,744.0],[41.93252066666667,-87.6364075,734.0],[41.940775,-87.639192,732.0],[41.880958,-87.616743,731.0],[41.891466,-87.626761,683.0],[41.912133,-87.634656,682.0],[41.94947274088333,-87.64645278453827,676.0],[41.867888,-87.623041,672.0],[41.903222,-87.634324,668.0],[41.963952166666665,-87.63822183333333,663.0],[41.95786652415174,-87.64950513839722,647.0],[41.856268,-87.613348,623.0],[41.893992,-87.629318,612.0],[41.98403669612,-87.6523104689,602.0],[41.91461,-87.667968,598.0],[41.8941315,-87.62246133333333,578.0],[41.925858,-87.638973,575.0],[41.945529,-87.646439,565.0],[41.886976,-87.612813,565.0],[41.838556,-87.608218,565.0],[41.795212,-87.580715,564.0],[41.919936,-87.64883,564.0],[41.88917683258,-87.6385057718,552.0],[41.866095,-87.607267,540.0],[41.8776415962753,-87.64961779117584,532.0],[41.90350983333333,-87.66780916666667,520.0],[41.834734,-87.625813,520.0],[41.915689,-87.6346,512.0],[41.872041333333335,-87.6295415,505.0],[41.894722,-87.634362,504.0],[41.94011916666667,-87.65298383333334,495.0],[41.886349,-87.617517,484.0],[41.954383,-87.648043,476.0],[41.94367,-87.64895,473.0],[41.8924565,-87.61454966666666,473.0],[41.93132,-87.638742,470.0],[41.965845,-87.645361,469.0],[41.907993,-87.631501,465.0],[41.881858,-87.64088583333333,465.0],[41.89084704062381,-87.61861681938171,464.0]],\"hovertemplate\":\"count=%{customdata[2]}<br>start_lat=%{customdata[0]}<br>start_lng=%{customdata[1]}<extra></extra>\",\"lat\":[41.892278,41.911722,41.78509714636,41.872187,41.791478,41.902973,41.9366884494997,41.92627866666667,41.90096,41.93758231600629,41.918306,41.93252066666667,41.940775,41.880958,41.891466,41.912133,41.94947274088333,41.867888,41.903222,41.963952166666665,41.95786652415174,41.856268,41.893992,41.98403669612,41.91461,41.8941315,41.925858,41.945529,41.886976,41.838556,41.795212,41.919936,41.88917683258,41.866095,41.8776415962753,41.90350983333333,41.834734,41.915689,41.872041333333335,41.894722,41.94011916666667,41.886349,41.954383,41.94367,41.8924565,41.93132,41.965845,41.907993,41.881858,41.89084704062381],\"legendgroup\":\"\",\"lon\":[-87.612043,-87.626804,-87.6010727606,-87.661501,-87.599861,-87.63128,-87.63682901859283,-87.63089283333333,-87.623777,-87.6440978050232,-87.636282,-87.6364075,-87.639192,-87.616743,-87.626761,-87.634656,-87.64645278453827,-87.623041,-87.634324,-87.63822183333333,-87.64950513839722,-87.613348,-87.629318,-87.6523104689,-87.667968,-87.62246133333333,-87.638973,-87.646439,-87.612813,-87.608218,-87.580715,-87.64883,-87.6385057718,-87.607267,-87.64961779117584,-87.66780916666667,-87.625813,-87.6346,-87.6295415,-87.634362,-87.65298383333334,-87.617517,-87.648043,-87.64895,-87.61454966666666,-87.638742,-87.645361,-87.631501,-87.64088583333333,-87.61861681938171],\"marker\":{\"color\":\"#636efa\",\"size\":[1381.0,1035.0,967.0,948.0,855.0,799.0,786.0,764.0,762.0,755.0,744.0,734.0,732.0,731.0,683.0,682.0,676.0,672.0,668.0,663.0,647.0,623.0,612.0,602.0,598.0,578.0,575.0,565.0,565.0,565.0,564.0,564.0,552.0,540.0,532.0,520.0,520.0,512.0,505.0,504.0,495.0,484.0,476.0,473.0,473.0,470.0,469.0,465.0,465.0,464.0],\"sizemode\":\"area\",\"sizeref\":6.137777777777778},\"mode\":\"markers\",\"name\":\"\",\"showlegend\":false,\"subplot\":\"mapbox\",\"type\":\"scattermapbox\"}],                        {\"template\":{\"data\":{\"histogram2dcontour\":[{\"type\":\"histogram2dcontour\",\"colorbar\":{\"outlinewidth\":0,\"ticks\":\"\"},\"colorscale\":[[0.0,\"#0d0887\"],[0.1111111111111111,\"#46039f\"],[0.2222222222222222,\"#7201a8\"],[0.3333333333333333,\"#9c179e\"],[0.4444444444444444,\"#bd3786\"],[0.5555555555555556,\"#d8576b\"],[0.6666666666666666,\"#ed7953\"],[0.7777777777777778,\"#fb9f3a\"],[0.8888888888888888,\"#fdca26\"],[1.0,\"#f0f921\"]]}],\"choropleth\":[{\"type\":\"choropleth\",\"colorbar\":{\"outlinewidth\":0,\"ticks\":\"\"}}],\"histogram2d\":[{\"type\":\"histogram2d\",\"colorbar\":{\"outlinewidth\":0,\"ticks\":\"\"},\"colorscale\":[[0.0,\"#0d0887\"],[0.1111111111111111,\"#46039f\"],[0.2222222222222222,\"#7201a8\"],[0.3333333333333333,\"#9c179e\"],[0.4444444444444444,\"#bd3786\"],[0.5555555555555556,\"#d8576b\"],[0.6666666666666666,\"#ed7953\"],[0.7777777777777778,\"#fb9f3a\"],[0.8888888888888888,\"#fdca26\"],[1.0,\"#f0f921\"]]}],\"heatmap\":[{\"type\":\"heatmap\",\"colorbar\":{\"outlinewidth\":0,\"ticks\":\"\"},\"colorscale\":[[0.0,\"#0d0887\"],[0.1111111111111111,\"#46039f\"],[0.2222222222222222,\"#7201a8\"],[0.3333333333333333,\"#9c179e\"],[0.4444444444444444,\"#bd3786\"],[0.5555555555555556,\"#d8576b\"],[0.6666666666666666,\"#ed7953\"],[0.7777777777777778,\"#fb9f3a\"],[0.8888888888888888,\"#fdca26\"],[1.0,\"#f0f921\"]]}],\"heatmapgl\":[{\"type\":\"heatmapgl\",\"colorbar\":{\"outlinewidth\":0,\"ticks\":\"\"},\"colorscale\":[[0.0,\"#0d0887\"],[0.1111111111111111,\"#46039f\"],[0.2222222222222222,\"#7201a8\"],[0.3333333333333333,\"#9c179e\"],[0.4444444444444444,\"#bd3786\"],[0.5555555555555556,\"#d8576b\"],[0.6666666666666666,\"#ed7953\"],[0.7777777777777778,\"#fb9f3a\"],[0.8888888888888888,\"#fdca26\"],[1.0,\"#f0f921\"]]}],\"contourcarpet\":[{\"type\":\"contourcarpet\",\"colorbar\":{\"outlinewidth\":0,\"ticks\":\"\"}}],\"contour\":[{\"type\":\"contour\",\"colorbar\":{\"outlinewidth\":0,\"ticks\":\"\"},\"colorscale\":[[0.0,\"#0d0887\"],[0.1111111111111111,\"#46039f\"],[0.2222222222222222,\"#7201a8\"],[0.3333333333333333,\"#9c179e\"],[0.4444444444444444,\"#bd3786\"],[0.5555555555555556,\"#d8576b\"],[0.6666666666666666,\"#ed7953\"],[0.7777777777777778,\"#fb9f3a\"],[0.8888888888888888,\"#fdca26\"],[1.0,\"#f0f921\"]]}],\"surface\":[{\"type\":\"surface\",\"colorbar\":{\"outlinewidth\":0,\"ticks\":\"\"},\"colorscale\":[[0.0,\"#0d0887\"],[0.1111111111111111,\"#46039f\"],[0.2222222222222222,\"#7201a8\"],[0.3333333333333333,\"#9c179e\"],[0.4444444444444444,\"#bd3786\"],[0.5555555555555556,\"#d8576b\"],[0.6666666666666666,\"#ed7953\"],[0.7777777777777778,\"#fb9f3a\"],[0.8888888888888888,\"#fdca26\"],[1.0,\"#f0f921\"]]}],\"mesh3d\":[{\"type\":\"mesh3d\",\"colorbar\":{\"outlinewidth\":0,\"ticks\":\"\"}}],\"scatter\":[{\"fillpattern\":{\"fillmode\":\"overlay\",\"size\":10,\"solidity\":0.2},\"type\":\"scatter\"}],\"parcoords\":[{\"type\":\"parcoords\",\"line\":{\"colorbar\":{\"outlinewidth\":0,\"ticks\":\"\"}}}],\"scatterpolargl\":[{\"type\":\"scatterpolargl\",\"marker\":{\"colorbar\":{\"outlinewidth\":0,\"ticks\":\"\"}}}],\"bar\":[{\"error_x\":{\"color\":\"#2a3f5f\"},\"error_y\":{\"color\":\"#2a3f5f\"},\"marker\":{\"line\":{\"color\":\"#E5ECF6\",\"width\":0.5},\"pattern\":{\"fillmode\":\"overlay\",\"size\":10,\"solidity\":0.2}},\"type\":\"bar\"}],\"scattergeo\":[{\"type\":\"scattergeo\",\"marker\":{\"colorbar\":{\"outlinewidth\":0,\"ticks\":\"\"}}}],\"scatterpolar\":[{\"type\":\"scatterpolar\",\"marker\":{\"colorbar\":{\"outlinewidth\":0,\"ticks\":\"\"}}}],\"histogram\":[{\"marker\":{\"pattern\":{\"fillmode\":\"overlay\",\"size\":10,\"solidity\":0.2}},\"type\":\"histogram\"}],\"scattergl\":[{\"type\":\"scattergl\",\"marker\":{\"colorbar\":{\"outlinewidth\":0,\"ticks\":\"\"}}}],\"scatter3d\":[{\"type\":\"scatter3d\",\"line\":{\"colorbar\":{\"outlinewidth\":0,\"ticks\":\"\"}},\"marker\":{\"colorbar\":{\"outlinewidth\":0,\"ticks\":\"\"}}}],\"scattermapbox\":[{\"type\":\"scattermapbox\",\"marker\":{\"colorbar\":{\"outlinewidth\":0,\"ticks\":\"\"}}}],\"scatterternary\":[{\"type\":\"scatterternary\",\"marker\":{\"colorbar\":{\"outlinewidth\":0,\"ticks\":\"\"}}}],\"scattercarpet\":[{\"type\":\"scattercarpet\",\"marker\":{\"colorbar\":{\"outlinewidth\":0,\"ticks\":\"\"}}}],\"carpet\":[{\"aaxis\":{\"endlinecolor\":\"#2a3f5f\",\"gridcolor\":\"white\",\"linecolor\":\"white\",\"minorgridcolor\":\"white\",\"startlinecolor\":\"#2a3f5f\"},\"baxis\":{\"endlinecolor\":\"#2a3f5f\",\"gridcolor\":\"white\",\"linecolor\":\"white\",\"minorgridcolor\":\"white\",\"startlinecolor\":\"#2a3f5f\"},\"type\":\"carpet\"}],\"table\":[{\"cells\":{\"fill\":{\"color\":\"#EBF0F8\"},\"line\":{\"color\":\"white\"}},\"header\":{\"fill\":{\"color\":\"#C8D4E3\"},\"line\":{\"color\":\"white\"}},\"type\":\"table\"}],\"barpolar\":[{\"marker\":{\"line\":{\"color\":\"#E5ECF6\",\"width\":0.5},\"pattern\":{\"fillmode\":\"overlay\",\"size\":10,\"solidity\":0.2}},\"type\":\"barpolar\"}],\"pie\":[{\"automargin\":true,\"type\":\"pie\"}]},\"layout\":{\"autotypenumbers\":\"strict\",\"colorway\":[\"#636efa\",\"#EF553B\",\"#00cc96\",\"#ab63fa\",\"#FFA15A\",\"#19d3f3\",\"#FF6692\",\"#B6E880\",\"#FF97FF\",\"#FECB52\"],\"font\":{\"color\":\"#2a3f5f\"},\"hovermode\":\"closest\",\"hoverlabel\":{\"align\":\"left\"},\"paper_bgcolor\":\"white\",\"plot_bgcolor\":\"#E5ECF6\",\"polar\":{\"bgcolor\":\"#E5ECF6\",\"angularaxis\":{\"gridcolor\":\"white\",\"linecolor\":\"white\",\"ticks\":\"\"},\"radialaxis\":{\"gridcolor\":\"white\",\"linecolor\":\"white\",\"ticks\":\"\"}},\"ternary\":{\"bgcolor\":\"#E5ECF6\",\"aaxis\":{\"gridcolor\":\"white\",\"linecolor\":\"white\",\"ticks\":\"\"},\"baxis\":{\"gridcolor\":\"white\",\"linecolor\":\"white\",\"ticks\":\"\"},\"caxis\":{\"gridcolor\":\"white\",\"linecolor\":\"white\",\"ticks\":\"\"}},\"coloraxis\":{\"colorbar\":{\"outlinewidth\":0,\"ticks\":\"\"}},\"colorscale\":{\"sequential\":[[0.0,\"#0d0887\"],[0.1111111111111111,\"#46039f\"],[0.2222222222222222,\"#7201a8\"],[0.3333333333333333,\"#9c179e\"],[0.4444444444444444,\"#bd3786\"],[0.5555555555555556,\"#d8576b\"],[0.6666666666666666,\"#ed7953\"],[0.7777777777777778,\"#fb9f3a\"],[0.8888888888888888,\"#fdca26\"],[1.0,\"#f0f921\"]],\"sequentialminus\":[[0.0,\"#0d0887\"],[0.1111111111111111,\"#46039f\"],[0.2222222222222222,\"#7201a8\"],[0.3333333333333333,\"#9c179e\"],[0.4444444444444444,\"#bd3786\"],[0.5555555555555556,\"#d8576b\"],[0.6666666666666666,\"#ed7953\"],[0.7777777777777778,\"#fb9f3a\"],[0.8888888888888888,\"#fdca26\"],[1.0,\"#f0f921\"]],\"diverging\":[[0,\"#8e0152\"],[0.1,\"#c51b7d\"],[0.2,\"#de77ae\"],[0.3,\"#f1b6da\"],[0.4,\"#fde0ef\"],[0.5,\"#f7f7f7\"],[0.6,\"#e6f5d0\"],[0.7,\"#b8e186\"],[0.8,\"#7fbc41\"],[0.9,\"#4d9221\"],[1,\"#276419\"]]},\"xaxis\":{\"gridcolor\":\"white\",\"linecolor\":\"white\",\"ticks\":\"\",\"title\":{\"standoff\":15},\"zerolinecolor\":\"white\",\"automargin\":true,\"zerolinewidth\":2},\"yaxis\":{\"gridcolor\":\"white\",\"linecolor\":\"white\",\"ticks\":\"\",\"title\":{\"standoff\":15},\"zerolinecolor\":\"white\",\"automargin\":true,\"zerolinewidth\":2},\"scene\":{\"xaxis\":{\"backgroundcolor\":\"#E5ECF6\",\"gridcolor\":\"white\",\"linecolor\":\"white\",\"showbackground\":true,\"ticks\":\"\",\"zerolinecolor\":\"white\",\"gridwidth\":2},\"yaxis\":{\"backgroundcolor\":\"#E5ECF6\",\"gridcolor\":\"white\",\"linecolor\":\"white\",\"showbackground\":true,\"ticks\":\"\",\"zerolinecolor\":\"white\",\"gridwidth\":2},\"zaxis\":{\"backgroundcolor\":\"#E5ECF6\",\"gridcolor\":\"white\",\"linecolor\":\"white\",\"showbackground\":true,\"ticks\":\"\",\"zerolinecolor\":\"white\",\"gridwidth\":2}},\"shapedefaults\":{\"line\":{\"color\":\"#2a3f5f\"}},\"annotationdefaults\":{\"arrowcolor\":\"#2a3f5f\",\"arrowhead\":0,\"arrowwidth\":1},\"geo\":{\"bgcolor\":\"white\",\"landcolor\":\"#E5ECF6\",\"subunitcolor\":\"white\",\"showland\":true,\"showlakes\":true,\"lakecolor\":\"white\"},\"title\":{\"x\":0.05},\"mapbox\":{\"style\":\"light\"}}},\"mapbox\":{\"domain\":{\"x\":[0.0,1.0],\"y\":[0.0,1.0]},\"center\":{\"lat\":41.90158720351666,\"lon\":-87.63231609716817},\"zoom\":10,\"style\":\"open-street-map\"},\"legend\":{\"tracegroupgap\":0,\"itemsizing\":\"constant\"},\"title\":{\"text\":\"Most traffice Home Stations of Annual Members\"}},                        {\"responsive\": true}                    ).then(function(){\n",
       "                            \n",
       "var gd = document.getElementById('ede6518e-469c-42e2-a1c6-5d6e6dbb84ae');\n",
       "var x = new MutationObserver(function (mutations, observer) {{\n",
       "        var display = window.getComputedStyle(gd).display;\n",
       "        if (!display || display === 'none') {{\n",
       "            console.log([gd, 'removed!']);\n",
       "            Plotly.purge(gd);\n",
       "            observer.disconnect();\n",
       "        }}\n",
       "}});\n",
       "\n",
       "// Listen for the removal of the full notebook cells\n",
       "var notebookContainer = gd.closest('#notebook-container');\n",
       "if (notebookContainer) {{\n",
       "    x.observe(notebookContainer, {childList: true});\n",
       "}}\n",
       "\n",
       "// Listen for the clearing of the current output cell\n",
       "var outputEl = gd.closest('.output');\n",
       "if (outputEl) {{\n",
       "    x.observe(outputEl, {childList: true});\n",
       "}}\n",
       "\n",
       "                        })                };                });            </script>        </div>"
      ]
     },
     "metadata": {},
     "output_type": "display_data"
    }
   ],
   "source": [
    "top_member_home_station = home_station_distribution['member'].sort_values(ascending=False)[:50]\n",
    "\n",
    "member_home_station_indices = [station[station['start_station_id']==ix].index.values[0] for ix in top_member_home_station.index.values]\n",
    "top_member_home_station_loc = recent_year_clean.loc[member_home_station_indices][['start_station_id', 'start_lat','start_lng']]\n",
    "top_member_home_station_loc['count'] = top_member_home_station.values\n",
    "\n",
    "# Geographical scatter plot\n",
    "# import library\n",
    "import plotly.express as px\n",
    "\n",
    "def location_map(df, title):\n",
    "#     px.set_mapbox_access_token(open(\".mapbox_token\").read())\n",
    "    fig = px.scatter_mapbox(df, lat=\"start_lat\", lon=\"start_lng\",\n",
    "                            size='count',\n",
    "                            size_max =15,\n",
    "                            zoom=10,\n",
    "#                             height=500,\n",
    "                            title=title,\n",
    "                            hover_data={'start_lat':True,\n",
    "                                        'start_lng':True,\n",
    "                                        'count':True,\n",
    "                                       }\n",
    "                           )\n",
    "    fig.update_layout(mapbox_style='open-street-map')\n",
    "    fig.show()\n",
    "\n",
    "location_map(top_member_home_station_loc, 'Most traffice Home Stations of Annual Members')"
   ]
  },
  {
   "cell_type": "markdown",
   "id": "0e0f8e6b",
   "metadata": {
    "papermill": {
     "duration": 0.018117,
     "end_time": "2022-08-17T03:56:59.573020",
     "exception": false,
     "start_time": "2022-08-17T03:56:59.554903",
     "status": "completed"
    },
    "tags": []
   },
   "source": [
    "**Top 50 home stations of casual riders** "
   ]
  },
  {
   "cell_type": "code",
   "execution_count": 26,
   "id": "c2b1b66f",
   "metadata": {
    "execution": {
     "iopub.execute_input": "2022-08-17T03:56:59.612166Z",
     "iopub.status.busy": "2022-08-17T03:56:59.611449Z",
     "iopub.status.idle": "2022-08-17T03:57:16.500372Z",
     "shell.execute_reply": "2022-08-17T03:57:16.499435Z"
    },
    "papermill": {
     "duration": 16.911163,
     "end_time": "2022-08-17T03:57:16.502582",
     "exception": false,
     "start_time": "2022-08-17T03:56:59.591419",
     "status": "completed"
    },
    "tags": []
   },
   "outputs": [
    {
     "data": {
      "text/html": [
       "<div>                            <div id=\"dc0ccc8f-5951-45de-ad6a-a05b265acf14\" class=\"plotly-graph-div\" style=\"height:525px; width:100%;\"></div>            <script type=\"text/javascript\">                require([\"plotly\"], function(Plotly) {                    window.PLOTLYENV=window.PLOTLYENV || {};                                    if (document.getElementById(\"dc0ccc8f-5951-45de-ad6a-a05b265acf14\")) {                    Plotly.newPlot(                        \"dc0ccc8f-5951-45de-ad6a-a05b265acf14\",                        [{\"customdata\":[[41.892278,-87.612043,11593.0],[41.880958,-87.616743,6911.0],[41.90096,-87.623777,5427.0],[41.8810317,-87.62408432,5099.0],[41.911722,-87.626804,2898.0],[41.92627866666667,-87.63089283333333,2857.0],[41.963952166666665,-87.63822183333333,2839.0],[41.86722595682,-87.6153553902,2707.0],[41.87651122881695,-87.62054800987242,2499.0],[41.867888,-87.623041,2454.0],[41.872773,-87.623981,2358.0],[41.886976,-87.612813,2269.0],[41.838556,-87.608218,2152.0],[41.8924565,-87.61454966666666,1759.0],[41.866095,-87.607267,1718.0],[41.795212,-87.580715,1664.0],[41.891466,-87.626761,1636.0],[41.89084704062381,-87.61861681938171,1584.0],[41.88618016666667,-87.6245235,1502.0],[41.8839840647265,-87.6246839761734,1428.0],[41.940775,-87.639192,1411.0],[41.89184737210993,-87.62058019638062,1362.0],[41.870769,-87.625734,1302.0],[41.93252066666667,-87.6364075,1234.0],[41.886875,-87.62603,1230.0],[41.9366884494997,-87.63682901859283,1221.0],[41.918306,-87.636282,1197.0],[41.884728,-87.619521,1172.0],[41.924105833333336,-87.6359145,1159.0],[41.98403669612,-87.6523104689,1097.0],[41.965845,-87.645361,1090.0],[41.915689,-87.6346,1073.0],[41.867227,-87.625961,1067.0],[41.925858,-87.638973,1016.0],[41.9267559875,-87.6344287848,993.0],[41.83127423549,-87.6087991946,990.0],[41.886349,-87.617517,956.0],[41.886835,-87.62232,953.0],[41.8778275,-87.62404316666667,950.0],[41.9716,-87.650154,925.0],[41.93758231600629,-87.6440978050232,908.0],[41.8941315,-87.62246133333333,900.0],[41.912133,-87.634656,867.0],[41.94947274088333,-87.64645278453827,843.0],[41.902973,-87.63128,794.0],[42.050491,-87.677821,791.0],[41.893992,-87.629318,773.0],[41.898709833333335,-87.62241466666667,760.0],[41.894503,-87.617854,757.0],[41.93132,-87.638742,741.0]],\"hovertemplate\":\"count=%{customdata[2]}<br>start_lat=%{customdata[0]}<br>start_lng=%{customdata[1]}<extra></extra>\",\"lat\":[41.892278,41.880958,41.90096,41.8810317,41.911722,41.92627866666667,41.963952166666665,41.86722595682,41.87651122881695,41.867888,41.872773,41.886976,41.838556,41.8924565,41.866095,41.795212,41.891466,41.89084704062381,41.88618016666667,41.8839840647265,41.940775,41.89184737210993,41.870769,41.93252066666667,41.886875,41.9366884494997,41.918306,41.884728,41.924105833333336,41.98403669612,41.965845,41.915689,41.867227,41.925858,41.9267559875,41.83127423549,41.886349,41.886835,41.8778275,41.9716,41.93758231600629,41.8941315,41.912133,41.94947274088333,41.902973,42.050491,41.893992,41.898709833333335,41.894503,41.93132],\"legendgroup\":\"\",\"lon\":[-87.612043,-87.616743,-87.623777,-87.62408432,-87.626804,-87.63089283333333,-87.63822183333333,-87.6153553902,-87.62054800987242,-87.623041,-87.623981,-87.612813,-87.608218,-87.61454966666666,-87.607267,-87.580715,-87.626761,-87.61861681938171,-87.6245235,-87.6246839761734,-87.639192,-87.62058019638062,-87.625734,-87.6364075,-87.62603,-87.63682901859283,-87.636282,-87.619521,-87.6359145,-87.6523104689,-87.645361,-87.6346,-87.625961,-87.638973,-87.6344287848,-87.6087991946,-87.617517,-87.62232,-87.62404316666667,-87.650154,-87.6440978050232,-87.62246133333333,-87.634656,-87.64645278453827,-87.63128,-87.677821,-87.629318,-87.62241466666667,-87.617854,-87.638742],\"marker\":{\"color\":\"#636efa\",\"size\":[11593.0,6911.0,5427.0,5099.0,2898.0,2857.0,2839.0,2707.0,2499.0,2454.0,2358.0,2269.0,2152.0,1759.0,1718.0,1664.0,1636.0,1584.0,1502.0,1428.0,1411.0,1362.0,1302.0,1234.0,1230.0,1221.0,1197.0,1172.0,1159.0,1097.0,1090.0,1073.0,1067.0,1016.0,993.0,990.0,956.0,953.0,950.0,925.0,908.0,900.0,867.0,843.0,794.0,791.0,773.0,760.0,757.0,741.0],\"sizemode\":\"area\",\"sizeref\":51.52444444444444},\"mode\":\"markers\",\"name\":\"\",\"showlegend\":false,\"subplot\":\"mapbox\",\"type\":\"scattermapbox\"}],                        {\"template\":{\"data\":{\"histogram2dcontour\":[{\"type\":\"histogram2dcontour\",\"colorbar\":{\"outlinewidth\":0,\"ticks\":\"\"},\"colorscale\":[[0.0,\"#0d0887\"],[0.1111111111111111,\"#46039f\"],[0.2222222222222222,\"#7201a8\"],[0.3333333333333333,\"#9c179e\"],[0.4444444444444444,\"#bd3786\"],[0.5555555555555556,\"#d8576b\"],[0.6666666666666666,\"#ed7953\"],[0.7777777777777778,\"#fb9f3a\"],[0.8888888888888888,\"#fdca26\"],[1.0,\"#f0f921\"]]}],\"choropleth\":[{\"type\":\"choropleth\",\"colorbar\":{\"outlinewidth\":0,\"ticks\":\"\"}}],\"histogram2d\":[{\"type\":\"histogram2d\",\"colorbar\":{\"outlinewidth\":0,\"ticks\":\"\"},\"colorscale\":[[0.0,\"#0d0887\"],[0.1111111111111111,\"#46039f\"],[0.2222222222222222,\"#7201a8\"],[0.3333333333333333,\"#9c179e\"],[0.4444444444444444,\"#bd3786\"],[0.5555555555555556,\"#d8576b\"],[0.6666666666666666,\"#ed7953\"],[0.7777777777777778,\"#fb9f3a\"],[0.8888888888888888,\"#fdca26\"],[1.0,\"#f0f921\"]]}],\"heatmap\":[{\"type\":\"heatmap\",\"colorbar\":{\"outlinewidth\":0,\"ticks\":\"\"},\"colorscale\":[[0.0,\"#0d0887\"],[0.1111111111111111,\"#46039f\"],[0.2222222222222222,\"#7201a8\"],[0.3333333333333333,\"#9c179e\"],[0.4444444444444444,\"#bd3786\"],[0.5555555555555556,\"#d8576b\"],[0.6666666666666666,\"#ed7953\"],[0.7777777777777778,\"#fb9f3a\"],[0.8888888888888888,\"#fdca26\"],[1.0,\"#f0f921\"]]}],\"heatmapgl\":[{\"type\":\"heatmapgl\",\"colorbar\":{\"outlinewidth\":0,\"ticks\":\"\"},\"colorscale\":[[0.0,\"#0d0887\"],[0.1111111111111111,\"#46039f\"],[0.2222222222222222,\"#7201a8\"],[0.3333333333333333,\"#9c179e\"],[0.4444444444444444,\"#bd3786\"],[0.5555555555555556,\"#d8576b\"],[0.6666666666666666,\"#ed7953\"],[0.7777777777777778,\"#fb9f3a\"],[0.8888888888888888,\"#fdca26\"],[1.0,\"#f0f921\"]]}],\"contourcarpet\":[{\"type\":\"contourcarpet\",\"colorbar\":{\"outlinewidth\":0,\"ticks\":\"\"}}],\"contour\":[{\"type\":\"contour\",\"colorbar\":{\"outlinewidth\":0,\"ticks\":\"\"},\"colorscale\":[[0.0,\"#0d0887\"],[0.1111111111111111,\"#46039f\"],[0.2222222222222222,\"#7201a8\"],[0.3333333333333333,\"#9c179e\"],[0.4444444444444444,\"#bd3786\"],[0.5555555555555556,\"#d8576b\"],[0.6666666666666666,\"#ed7953\"],[0.7777777777777778,\"#fb9f3a\"],[0.8888888888888888,\"#fdca26\"],[1.0,\"#f0f921\"]]}],\"surface\":[{\"type\":\"surface\",\"colorbar\":{\"outlinewidth\":0,\"ticks\":\"\"},\"colorscale\":[[0.0,\"#0d0887\"],[0.1111111111111111,\"#46039f\"],[0.2222222222222222,\"#7201a8\"],[0.3333333333333333,\"#9c179e\"],[0.4444444444444444,\"#bd3786\"],[0.5555555555555556,\"#d8576b\"],[0.6666666666666666,\"#ed7953\"],[0.7777777777777778,\"#fb9f3a\"],[0.8888888888888888,\"#fdca26\"],[1.0,\"#f0f921\"]]}],\"mesh3d\":[{\"type\":\"mesh3d\",\"colorbar\":{\"outlinewidth\":0,\"ticks\":\"\"}}],\"scatter\":[{\"fillpattern\":{\"fillmode\":\"overlay\",\"size\":10,\"solidity\":0.2},\"type\":\"scatter\"}],\"parcoords\":[{\"type\":\"parcoords\",\"line\":{\"colorbar\":{\"outlinewidth\":0,\"ticks\":\"\"}}}],\"scatterpolargl\":[{\"type\":\"scatterpolargl\",\"marker\":{\"colorbar\":{\"outlinewidth\":0,\"ticks\":\"\"}}}],\"bar\":[{\"error_x\":{\"color\":\"#2a3f5f\"},\"error_y\":{\"color\":\"#2a3f5f\"},\"marker\":{\"line\":{\"color\":\"#E5ECF6\",\"width\":0.5},\"pattern\":{\"fillmode\":\"overlay\",\"size\":10,\"solidity\":0.2}},\"type\":\"bar\"}],\"scattergeo\":[{\"type\":\"scattergeo\",\"marker\":{\"colorbar\":{\"outlinewidth\":0,\"ticks\":\"\"}}}],\"scatterpolar\":[{\"type\":\"scatterpolar\",\"marker\":{\"colorbar\":{\"outlinewidth\":0,\"ticks\":\"\"}}}],\"histogram\":[{\"marker\":{\"pattern\":{\"fillmode\":\"overlay\",\"size\":10,\"solidity\":0.2}},\"type\":\"histogram\"}],\"scattergl\":[{\"type\":\"scattergl\",\"marker\":{\"colorbar\":{\"outlinewidth\":0,\"ticks\":\"\"}}}],\"scatter3d\":[{\"type\":\"scatter3d\",\"line\":{\"colorbar\":{\"outlinewidth\":0,\"ticks\":\"\"}},\"marker\":{\"colorbar\":{\"outlinewidth\":0,\"ticks\":\"\"}}}],\"scattermapbox\":[{\"type\":\"scattermapbox\",\"marker\":{\"colorbar\":{\"outlinewidth\":0,\"ticks\":\"\"}}}],\"scatterternary\":[{\"type\":\"scatterternary\",\"marker\":{\"colorbar\":{\"outlinewidth\":0,\"ticks\":\"\"}}}],\"scattercarpet\":[{\"type\":\"scattercarpet\",\"marker\":{\"colorbar\":{\"outlinewidth\":0,\"ticks\":\"\"}}}],\"carpet\":[{\"aaxis\":{\"endlinecolor\":\"#2a3f5f\",\"gridcolor\":\"white\",\"linecolor\":\"white\",\"minorgridcolor\":\"white\",\"startlinecolor\":\"#2a3f5f\"},\"baxis\":{\"endlinecolor\":\"#2a3f5f\",\"gridcolor\":\"white\",\"linecolor\":\"white\",\"minorgridcolor\":\"white\",\"startlinecolor\":\"#2a3f5f\"},\"type\":\"carpet\"}],\"table\":[{\"cells\":{\"fill\":{\"color\":\"#EBF0F8\"},\"line\":{\"color\":\"white\"}},\"header\":{\"fill\":{\"color\":\"#C8D4E3\"},\"line\":{\"color\":\"white\"}},\"type\":\"table\"}],\"barpolar\":[{\"marker\":{\"line\":{\"color\":\"#E5ECF6\",\"width\":0.5},\"pattern\":{\"fillmode\":\"overlay\",\"size\":10,\"solidity\":0.2}},\"type\":\"barpolar\"}],\"pie\":[{\"automargin\":true,\"type\":\"pie\"}]},\"layout\":{\"autotypenumbers\":\"strict\",\"colorway\":[\"#636efa\",\"#EF553B\",\"#00cc96\",\"#ab63fa\",\"#FFA15A\",\"#19d3f3\",\"#FF6692\",\"#B6E880\",\"#FF97FF\",\"#FECB52\"],\"font\":{\"color\":\"#2a3f5f\"},\"hovermode\":\"closest\",\"hoverlabel\":{\"align\":\"left\"},\"paper_bgcolor\":\"white\",\"plot_bgcolor\":\"#E5ECF6\",\"polar\":{\"bgcolor\":\"#E5ECF6\",\"angularaxis\":{\"gridcolor\":\"white\",\"linecolor\":\"white\",\"ticks\":\"\"},\"radialaxis\":{\"gridcolor\":\"white\",\"linecolor\":\"white\",\"ticks\":\"\"}},\"ternary\":{\"bgcolor\":\"#E5ECF6\",\"aaxis\":{\"gridcolor\":\"white\",\"linecolor\":\"white\",\"ticks\":\"\"},\"baxis\":{\"gridcolor\":\"white\",\"linecolor\":\"white\",\"ticks\":\"\"},\"caxis\":{\"gridcolor\":\"white\",\"linecolor\":\"white\",\"ticks\":\"\"}},\"coloraxis\":{\"colorbar\":{\"outlinewidth\":0,\"ticks\":\"\"}},\"colorscale\":{\"sequential\":[[0.0,\"#0d0887\"],[0.1111111111111111,\"#46039f\"],[0.2222222222222222,\"#7201a8\"],[0.3333333333333333,\"#9c179e\"],[0.4444444444444444,\"#bd3786\"],[0.5555555555555556,\"#d8576b\"],[0.6666666666666666,\"#ed7953\"],[0.7777777777777778,\"#fb9f3a\"],[0.8888888888888888,\"#fdca26\"],[1.0,\"#f0f921\"]],\"sequentialminus\":[[0.0,\"#0d0887\"],[0.1111111111111111,\"#46039f\"],[0.2222222222222222,\"#7201a8\"],[0.3333333333333333,\"#9c179e\"],[0.4444444444444444,\"#bd3786\"],[0.5555555555555556,\"#d8576b\"],[0.6666666666666666,\"#ed7953\"],[0.7777777777777778,\"#fb9f3a\"],[0.8888888888888888,\"#fdca26\"],[1.0,\"#f0f921\"]],\"diverging\":[[0,\"#8e0152\"],[0.1,\"#c51b7d\"],[0.2,\"#de77ae\"],[0.3,\"#f1b6da\"],[0.4,\"#fde0ef\"],[0.5,\"#f7f7f7\"],[0.6,\"#e6f5d0\"],[0.7,\"#b8e186\"],[0.8,\"#7fbc41\"],[0.9,\"#4d9221\"],[1,\"#276419\"]]},\"xaxis\":{\"gridcolor\":\"white\",\"linecolor\":\"white\",\"ticks\":\"\",\"title\":{\"standoff\":15},\"zerolinecolor\":\"white\",\"automargin\":true,\"zerolinewidth\":2},\"yaxis\":{\"gridcolor\":\"white\",\"linecolor\":\"white\",\"ticks\":\"\",\"title\":{\"standoff\":15},\"zerolinecolor\":\"white\",\"automargin\":true,\"zerolinewidth\":2},\"scene\":{\"xaxis\":{\"backgroundcolor\":\"#E5ECF6\",\"gridcolor\":\"white\",\"linecolor\":\"white\",\"showbackground\":true,\"ticks\":\"\",\"zerolinecolor\":\"white\",\"gridwidth\":2},\"yaxis\":{\"backgroundcolor\":\"#E5ECF6\",\"gridcolor\":\"white\",\"linecolor\":\"white\",\"showbackground\":true,\"ticks\":\"\",\"zerolinecolor\":\"white\",\"gridwidth\":2},\"zaxis\":{\"backgroundcolor\":\"#E5ECF6\",\"gridcolor\":\"white\",\"linecolor\":\"white\",\"showbackground\":true,\"ticks\":\"\",\"zerolinecolor\":\"white\",\"gridwidth\":2}},\"shapedefaults\":{\"line\":{\"color\":\"#2a3f5f\"}},\"annotationdefaults\":{\"arrowcolor\":\"#2a3f5f\",\"arrowhead\":0,\"arrowwidth\":1},\"geo\":{\"bgcolor\":\"white\",\"landcolor\":\"#E5ECF6\",\"subunitcolor\":\"white\",\"showland\":true,\"showlakes\":true,\"lakecolor\":\"white\"},\"title\":{\"x\":0.05},\"mapbox\":{\"style\":\"light\"}}},\"mapbox\":{\"domain\":{\"x\":[0.0,1.0],\"y\":[0.0,1.0]},\"center\":{\"lat\":41.903291452438594,\"lon\":-87.62739389536927},\"zoom\":10,\"style\":\"open-street-map\"},\"legend\":{\"tracegroupgap\":0,\"itemsizing\":\"constant\"},\"title\":{\"text\":\"Most traffice Home Stations of Casual Riders\"}},                        {\"responsive\": true}                    ).then(function(){\n",
       "                            \n",
       "var gd = document.getElementById('dc0ccc8f-5951-45de-ad6a-a05b265acf14');\n",
       "var x = new MutationObserver(function (mutations, observer) {{\n",
       "        var display = window.getComputedStyle(gd).display;\n",
       "        if (!display || display === 'none') {{\n",
       "            console.log([gd, 'removed!']);\n",
       "            Plotly.purge(gd);\n",
       "            observer.disconnect();\n",
       "        }}\n",
       "}});\n",
       "\n",
       "// Listen for the removal of the full notebook cells\n",
       "var notebookContainer = gd.closest('#notebook-container');\n",
       "if (notebookContainer) {{\n",
       "    x.observe(notebookContainer, {childList: true});\n",
       "}}\n",
       "\n",
       "// Listen for the clearing of the current output cell\n",
       "var outputEl = gd.closest('.output');\n",
       "if (outputEl) {{\n",
       "    x.observe(outputEl, {childList: true});\n",
       "}}\n",
       "\n",
       "                        })                };                });            </script>        </div>"
      ]
     },
     "metadata": {},
     "output_type": "display_data"
    }
   ],
   "source": [
    "top_casual_home_station = home_station_distribution['casual'].sort_values(ascending=False)[:50]\n",
    "\n",
    "casual_home_station_indices = [station[station['start_station_id']==ix].index.values[0] for ix in top_casual_home_station.index.values]\n",
    "top_casual_home_station_loc = recent_year_clean.loc[casual_home_station_indices][['start_station_id', 'start_lat','start_lng']]\n",
    "top_casual_home_station_loc['count'] = top_casual_home_station.values\n",
    "\n",
    "location_map(top_casual_home_station_loc, 'Most traffice Home Stations of Casual Riders')"
   ]
  },
  {
   "cell_type": "markdown",
   "id": "4cf0b6de",
   "metadata": {
    "papermill": {
     "duration": 0.018308,
     "end_time": "2022-08-17T03:57:16.540008",
     "exception": false,
     "start_time": "2022-08-17T03:57:16.521700",
     "status": "completed"
    },
    "tags": []
   },
   "source": [
    "Now what are the know the common paths of annual members and casual riders."
   ]
  },
  {
   "cell_type": "code",
   "execution_count": 27,
   "id": "179acc0e",
   "metadata": {
    "execution": {
     "iopub.execute_input": "2022-08-17T03:57:16.579781Z",
     "iopub.status.busy": "2022-08-17T03:57:16.579119Z",
     "iopub.status.idle": "2022-08-17T03:57:19.496058Z",
     "shell.execute_reply": "2022-08-17T03:57:19.494842Z"
    },
    "papermill": {
     "duration": 2.94,
     "end_time": "2022-08-17T03:57:19.498847",
     "exception": false,
     "start_time": "2022-08-17T03:57:16.558847",
     "status": "completed"
    },
    "tags": []
   },
   "outputs": [],
   "source": [
    "path_distribution = station[station['home_station'] == 0].pivot_table(index='path', \n",
    "                                                                      columns='member_casual', \n",
    "                                                                      aggfunc='count',\n",
    "                                                                      values='ride_id')"
   ]
  },
  {
   "cell_type": "markdown",
   "id": "3cf5ca7d",
   "metadata": {
    "papermill": {
     "duration": 0.018954,
     "end_time": "2022-08-17T03:57:19.537250",
     "exception": false,
     "start_time": "2022-08-17T03:57:19.518296",
     "status": "completed"
    },
    "tags": []
   },
   "source": [
    "**Top 10 paths of the casual riders**"
   ]
  },
  {
   "cell_type": "code",
   "execution_count": 28,
   "id": "d091688b",
   "metadata": {
    "execution": {
     "iopub.execute_input": "2022-08-17T03:57:19.576525Z",
     "iopub.status.busy": "2022-08-17T03:57:19.576075Z",
     "iopub.status.idle": "2022-08-17T03:57:22.862626Z",
     "shell.execute_reply": "2022-08-17T03:57:22.861540Z"
    },
    "papermill": {
     "duration": 3.309115,
     "end_time": "2022-08-17T03:57:22.865179",
     "exception": false,
     "start_time": "2022-08-17T03:57:19.556064",
     "status": "completed"
    },
    "tags": []
   },
   "outputs": [
    {
     "data": {
      "text/html": [
       "<div>\n",
       "<style scoped>\n",
       "    .dataframe tbody tr th:only-of-type {\n",
       "        vertical-align: middle;\n",
       "    }\n",
       "\n",
       "    .dataframe tbody tr th {\n",
       "        vertical-align: top;\n",
       "    }\n",
       "\n",
       "    .dataframe thead th {\n",
       "        text-align: right;\n",
       "    }\n",
       "</style>\n",
       "<table border=\"1\" class=\"dataframe\">\n",
       "  <thead>\n",
       "    <tr style=\"text-align: right;\">\n",
       "      <th></th>\n",
       "      <th>start_station_id</th>\n",
       "      <th>end_station_id</th>\n",
       "      <th>start_lat</th>\n",
       "      <th>start_lng</th>\n",
       "      <th>end_lat</th>\n",
       "      <th>end_lng</th>\n",
       "      <th>count</th>\n",
       "    </tr>\n",
       "  </thead>\n",
       "  <tbody>\n",
       "    <tr>\n",
       "      <th>21007</th>\n",
       "      <td>13300</td>\n",
       "      <td>13022</td>\n",
       "      <td>41.880958</td>\n",
       "      <td>-87.616743</td>\n",
       "      <td>41.892278</td>\n",
       "      <td>-87.612043</td>\n",
       "      <td>5648.0</td>\n",
       "    </tr>\n",
       "    <tr>\n",
       "      <th>31299</th>\n",
       "      <td>13022</td>\n",
       "      <td>13008</td>\n",
       "      <td>41.892278</td>\n",
       "      <td>-87.612043</td>\n",
       "      <td>41.881032</td>\n",
       "      <td>-87.624084</td>\n",
       "      <td>3451.0</td>\n",
       "    </tr>\n",
       "    <tr>\n",
       "      <th>21289</th>\n",
       "      <td>13008</td>\n",
       "      <td>13022</td>\n",
       "      <td>41.881032</td>\n",
       "      <td>-87.624084</td>\n",
       "      <td>41.892278</td>\n",
       "      <td>-87.612043</td>\n",
       "      <td>3049.0</td>\n",
       "    </tr>\n",
       "    <tr>\n",
       "      <th>67516</th>\n",
       "      <td>13022</td>\n",
       "      <td>13300</td>\n",
       "      <td>41.892278</td>\n",
       "      <td>-87.612043</td>\n",
       "      <td>41.880958</td>\n",
       "      <td>-87.616743</td>\n",
       "      <td>3011.0</td>\n",
       "    </tr>\n",
       "    <tr>\n",
       "      <th>21572</th>\n",
       "      <td>15544</td>\n",
       "      <td>13022</td>\n",
       "      <td>41.867226</td>\n",
       "      <td>-87.615355</td>\n",
       "      <td>41.892278</td>\n",
       "      <td>-87.612043</td>\n",
       "      <td>2922.0</td>\n",
       "    </tr>\n",
       "    <tr>\n",
       "      <th>18471</th>\n",
       "      <td>13022</td>\n",
       "      <td>13042</td>\n",
       "      <td>41.892278</td>\n",
       "      <td>-87.612043</td>\n",
       "      <td>41.900960</td>\n",
       "      <td>-87.623777</td>\n",
       "      <td>2649.0</td>\n",
       "    </tr>\n",
       "    <tr>\n",
       "      <th>76877</th>\n",
       "      <td>13022</td>\n",
       "      <td>LF-005</td>\n",
       "      <td>41.892278</td>\n",
       "      <td>-87.612043</td>\n",
       "      <td>41.911722</td>\n",
       "      <td>-87.626804</td>\n",
       "      <td>2580.0</td>\n",
       "    </tr>\n",
       "    <tr>\n",
       "      <th>21156</th>\n",
       "      <td>KA1503000064</td>\n",
       "      <td>13022</td>\n",
       "      <td>41.886976</td>\n",
       "      <td>-87.612813</td>\n",
       "      <td>41.892278</td>\n",
       "      <td>-87.612043</td>\n",
       "      <td>2281.0</td>\n",
       "    </tr>\n",
       "    <tr>\n",
       "      <th>21065</th>\n",
       "      <td>13042</td>\n",
       "      <td>13022</td>\n",
       "      <td>41.900960</td>\n",
       "      <td>-87.623777</td>\n",
       "      <td>41.892278</td>\n",
       "      <td>-87.612043</td>\n",
       "      <td>2113.0</td>\n",
       "    </tr>\n",
       "    <tr>\n",
       "      <th>20983</th>\n",
       "      <td>LF-005</td>\n",
       "      <td>13022</td>\n",
       "      <td>41.911722</td>\n",
       "      <td>-87.626804</td>\n",
       "      <td>41.892278</td>\n",
       "      <td>-87.612043</td>\n",
       "      <td>2030.0</td>\n",
       "    </tr>\n",
       "  </tbody>\n",
       "</table>\n",
       "</div>"
      ],
      "text/plain": [
       "      start_station_id end_station_id  start_lat  start_lng    end_lat  \\\n",
       "21007            13300          13022  41.880958 -87.616743  41.892278   \n",
       "31299            13022          13008  41.892278 -87.612043  41.881032   \n",
       "21289            13008          13022  41.881032 -87.624084  41.892278   \n",
       "67516            13022          13300  41.892278 -87.612043  41.880958   \n",
       "21572            15544          13022  41.867226 -87.615355  41.892278   \n",
       "18471            13022          13042  41.892278 -87.612043  41.900960   \n",
       "76877            13022         LF-005  41.892278 -87.612043  41.911722   \n",
       "21156     KA1503000064          13022  41.886976 -87.612813  41.892278   \n",
       "21065            13042          13022  41.900960 -87.623777  41.892278   \n",
       "20983           LF-005          13022  41.911722 -87.626804  41.892278   \n",
       "\n",
       "         end_lng   count  \n",
       "21007 -87.612043  5648.0  \n",
       "31299 -87.624084  3451.0  \n",
       "21289 -87.612043  3049.0  \n",
       "67516 -87.616743  3011.0  \n",
       "21572 -87.612043  2922.0  \n",
       "18471 -87.623777  2649.0  \n",
       "76877 -87.626804  2580.0  \n",
       "21156 -87.612043  2281.0  \n",
       "21065 -87.612043  2113.0  \n",
       "20983 -87.612043  2030.0  "
      ]
     },
     "execution_count": 28,
     "metadata": {},
     "output_type": "execute_result"
    }
   ],
   "source": [
    "top_casual_path = path_distribution['casual'].sort_values(ascending=False).head(10)\n",
    "# match the column and find the indices\n",
    "casual_indices = [station[station['path']==ix].index.values[0] for ix in top_casual_path.index.values]\n",
    "\n",
    "top_casual_path_loc = recent_year_clean.loc[casual_indices][['start_station_id', 'end_station_id', 'start_lat','start_lng','end_lat','end_lng']]\n",
    "top_casual_path_loc['count'] = top_casual_path.values\n",
    "top_casual_path_loc\n",
    "\n",
    "# with plt.style.context((\"seaborn\", \"ggplot\")):\n",
    "#     ## Plot world\n",
    "#     world[world.name == \"Chicago\"].plot(figsize=(15,15), edgecolor=\"grey\", color=\"white\");\n",
    "\n",
    "#     ## Loop through each flight plotting line depicting flight between source and destination\n",
    "#     ## We are also plotting scatter points depicting source and destinations\n",
    "#     for slat,dlat, slon, dlon, count in zip(top_casual_path_loc[\"start_lat\"], top_casual_path_loc[\"end_lat\"], top_casual_path_loc[\"start_lng\"], top_casual_path_loc[\"end_lng\"], top_casual_path_loc[\"count\"]):\n",
    "#         plt.plot([slon , dlon], [slat, dlat], linewidth=count/100, color=\"lime\", alpha=0.5)\n",
    "#         plt.scatter( [slon, dlon], [slat, dlat], color=\"orangered\", alpha=0.1, s=count)\n",
    "\n",
    "#     plt.title(\"Connection Map Depicting Flights between Cities of Brazil\")\n",
    "\n",
    "#     plt.savefig(\"connection-map-geopandas-4.png\", dpi=100)"
   ]
  },
  {
   "cell_type": "code",
   "execution_count": 29,
   "id": "fc30e09c",
   "metadata": {
    "execution": {
     "iopub.execute_input": "2022-08-17T03:57:22.905583Z",
     "iopub.status.busy": "2022-08-17T03:57:22.904545Z",
     "iopub.status.idle": "2022-08-17T03:57:26.239650Z",
     "shell.execute_reply": "2022-08-17T03:57:26.238269Z"
    },
    "papermill": {
     "duration": 3.357895,
     "end_time": "2022-08-17T03:57:26.242285",
     "exception": false,
     "start_time": "2022-08-17T03:57:22.884390",
     "status": "completed"
    },
    "tags": []
   },
   "outputs": [
    {
     "data": {
      "text/html": [
       "<div>\n",
       "<style scoped>\n",
       "    .dataframe tbody tr th:only-of-type {\n",
       "        vertical-align: middle;\n",
       "    }\n",
       "\n",
       "    .dataframe tbody tr th {\n",
       "        vertical-align: top;\n",
       "    }\n",
       "\n",
       "    .dataframe thead th {\n",
       "        text-align: right;\n",
       "    }\n",
       "</style>\n",
       "<table border=\"1\" class=\"dataframe\">\n",
       "  <thead>\n",
       "    <tr style=\"text-align: right;\">\n",
       "      <th></th>\n",
       "      <th>start_station_id</th>\n",
       "      <th>end_station_id</th>\n",
       "      <th>start_lat</th>\n",
       "      <th>start_lng</th>\n",
       "      <th>end_lat</th>\n",
       "      <th>end_lng</th>\n",
       "      <th>count</th>\n",
       "    </tr>\n",
       "  </thead>\n",
       "  <tbody>\n",
       "    <tr>\n",
       "      <th>49507</th>\n",
       "      <td>KA1503000014</td>\n",
       "      <td>KA1503000071</td>\n",
       "      <td>41.785097</td>\n",
       "      <td>-87.601073</td>\n",
       "      <td>41.791478</td>\n",
       "      <td>-87.599861</td>\n",
       "      <td>5482.0</td>\n",
       "    </tr>\n",
       "    <tr>\n",
       "      <th>65373</th>\n",
       "      <td>KA1503000014</td>\n",
       "      <td>KA1504000076</td>\n",
       "      <td>41.785097</td>\n",
       "      <td>-87.601073</td>\n",
       "      <td>41.794301</td>\n",
       "      <td>-87.601450</td>\n",
       "      <td>5251.0</td>\n",
       "    </tr>\n",
       "    <tr>\n",
       "      <th>121127</th>\n",
       "      <td>KA1503000071</td>\n",
       "      <td>KA1503000014</td>\n",
       "      <td>41.791478</td>\n",
       "      <td>-87.599861</td>\n",
       "      <td>41.785097</td>\n",
       "      <td>-87.601073</td>\n",
       "      <td>5243.0</td>\n",
       "    </tr>\n",
       "    <tr>\n",
       "      <th>11250</th>\n",
       "      <td>KA1504000076</td>\n",
       "      <td>KA1503000014</td>\n",
       "      <td>41.794301</td>\n",
       "      <td>-87.601450</td>\n",
       "      <td>41.785097</td>\n",
       "      <td>-87.601073</td>\n",
       "      <td>4629.0</td>\n",
       "    </tr>\n",
       "    <tr>\n",
       "      <th>12427</th>\n",
       "      <td>13217</td>\n",
       "      <td>13216</td>\n",
       "      <td>41.834900</td>\n",
       "      <td>-87.617930</td>\n",
       "      <td>41.834734</td>\n",
       "      <td>-87.625813</td>\n",
       "      <td>2328.0</td>\n",
       "    </tr>\n",
       "    <tr>\n",
       "      <th>11853</th>\n",
       "      <td>13216</td>\n",
       "      <td>13217</td>\n",
       "      <td>41.834707</td>\n",
       "      <td>-87.625910</td>\n",
       "      <td>41.834772</td>\n",
       "      <td>-87.617953</td>\n",
       "      <td>2220.0</td>\n",
       "    </tr>\n",
       "    <tr>\n",
       "      <th>20486</th>\n",
       "      <td>13332</td>\n",
       "      <td>TA1307000130</td>\n",
       "      <td>41.872187</td>\n",
       "      <td>-87.661501</td>\n",
       "      <td>41.871737</td>\n",
       "      <td>-87.651030</td>\n",
       "      <td>2202.0</td>\n",
       "    </tr>\n",
       "    <tr>\n",
       "      <th>39004</th>\n",
       "      <td>TA1307000130</td>\n",
       "      <td>13332</td>\n",
       "      <td>41.871737</td>\n",
       "      <td>-87.651030</td>\n",
       "      <td>41.872187</td>\n",
       "      <td>-87.661501</td>\n",
       "      <td>2054.0</td>\n",
       "    </tr>\n",
       "    <tr>\n",
       "      <th>14046</th>\n",
       "      <td>KA1503000014</td>\n",
       "      <td>TA1309000011</td>\n",
       "      <td>41.785097</td>\n",
       "      <td>-87.601073</td>\n",
       "      <td>41.788746</td>\n",
       "      <td>-87.601334</td>\n",
       "      <td>1738.0</td>\n",
       "    </tr>\n",
       "    <tr>\n",
       "      <th>12008</th>\n",
       "      <td>13332</td>\n",
       "      <td>TA1307000121</td>\n",
       "      <td>41.872187</td>\n",
       "      <td>-87.661501</td>\n",
       "      <td>41.871840</td>\n",
       "      <td>-87.646640</td>\n",
       "      <td>1634.0</td>\n",
       "    </tr>\n",
       "  </tbody>\n",
       "</table>\n",
       "</div>"
      ],
      "text/plain": [
       "       start_station_id end_station_id  start_lat  start_lng    end_lat  \\\n",
       "49507      KA1503000014   KA1503000071  41.785097 -87.601073  41.791478   \n",
       "65373      KA1503000014   KA1504000076  41.785097 -87.601073  41.794301   \n",
       "121127     KA1503000071   KA1503000014  41.791478 -87.599861  41.785097   \n",
       "11250      KA1504000076   KA1503000014  41.794301 -87.601450  41.785097   \n",
       "12427             13217          13216  41.834900 -87.617930  41.834734   \n",
       "11853             13216          13217  41.834707 -87.625910  41.834772   \n",
       "20486             13332   TA1307000130  41.872187 -87.661501  41.871737   \n",
       "39004      TA1307000130          13332  41.871737 -87.651030  41.872187   \n",
       "14046      KA1503000014   TA1309000011  41.785097 -87.601073  41.788746   \n",
       "12008             13332   TA1307000121  41.872187 -87.661501  41.871840   \n",
       "\n",
       "          end_lng   count  \n",
       "49507  -87.599861  5482.0  \n",
       "65373  -87.601450  5251.0  \n",
       "121127 -87.601073  5243.0  \n",
       "11250  -87.601073  4629.0  \n",
       "12427  -87.625813  2328.0  \n",
       "11853  -87.617953  2220.0  \n",
       "20486  -87.651030  2202.0  \n",
       "39004  -87.661501  2054.0  \n",
       "14046  -87.601334  1738.0  \n",
       "12008  -87.646640  1634.0  "
      ]
     },
     "execution_count": 29,
     "metadata": {},
     "output_type": "execute_result"
    }
   ],
   "source": [
    "top_member_path = path_distribution['member'].sort_values(ascending=False).head(10)\n",
    "# match the column and find the indices\n",
    "member_indices = [station[station['path']==ix].index.values[0] for ix in top_member_path.index.values]\n",
    "\n",
    "top_member_path_loc = recent_year_clean.loc[member_indices][['start_station_id', 'end_station_id', 'start_lat','start_lng','end_lat','end_lng']]\n",
    "top_member_path_loc['count'] = top_member_path.values\n",
    "top_member_path_loc"
   ]
  },
  {
   "cell_type": "markdown",
   "id": "ccb49572",
   "metadata": {
    "papermill": {
     "duration": 0.019036,
     "end_time": "2022-08-17T03:57:26.280924",
     "exception": false,
     "start_time": "2022-08-17T03:57:26.261888",
     "status": "completed"
    },
    "tags": []
   },
   "source": [
    "### Bike Priority\n",
    "There are three types of bikes being used:\n",
    "- Classic bike\n",
    "- Docked bike\n",
    "- Electric bike\n",
    "\n",
    "#### What proportion of bikes are used\n",
    "As we know **Classic bike** are mostly used by the customers. Let's check the all other proportions of bikes used by __Annual Members__ and __Casual Riders__. \n",
    "\n",
    "We can spot here that __usability of Electric bikes is same__ in both the cases (ie., 25%) But the __Annual members mostly prefers Classic bikes__ whereas __Casual riders also prefers Docked bikes with mostly prefered choice is same Classic bikes__."
   ]
  },
  {
   "cell_type": "code",
   "execution_count": 30,
   "id": "a4566275",
   "metadata": {
    "execution": {
     "iopub.execute_input": "2022-08-17T03:57:26.321514Z",
     "iopub.status.busy": "2022-08-17T03:57:26.321115Z",
     "iopub.status.idle": "2022-08-17T03:57:28.109419Z",
     "shell.execute_reply": "2022-08-17T03:57:28.108102Z"
    },
    "papermill": {
     "duration": 1.812878,
     "end_time": "2022-08-17T03:57:28.113132",
     "exception": false,
     "start_time": "2022-08-17T03:57:26.300254",
     "status": "completed"
    },
    "tags": []
   },
   "outputs": [
    {
     "data": {
      "image/png": "[encoded data removed]",
      "text/plain": [
       "<Figure size 864x432 with 2 Axes>"
      ]
     },
     "metadata": {},
     "output_type": "display_data"
    }
   ],
   "source": [
    "# a pivot table which is \n",
    "# grouped by rideable_type x member_casual\n",
    "# aggregate by count of ride_id in different groups\n",
    "bike_priority = recent_year_clean.pivot_table(index='rideable_type',\n",
    "                                                columns='member_casual',\n",
    "                                                aggfunc='count',\n",
    "                                                values='ride_id',\n",
    "                                                fill_value=0)\n",
    "\n",
    "# declaring data\n",
    "data1 = bike_priority.casual.values\n",
    "data2 = bike_priority.member.values\n",
    "keys = bike_priority.index.values\n",
    "  \n",
    "# define Seaborn color palette to use\n",
    "palette_color = sns.color_palette('Set2')\n",
    "  \n",
    "# plotting data on pie chart\n",
    "fig, (ax1, ax2) = plt.subplots(nrows=1, ncols=2,figsize=(12, 6))\n",
    "\n",
    "grid = plt.GridSpec(1, 2, wspace=0.2, hspace=0.5)\n",
    "\n",
    "ax1 = plt.subplot(grid[0, 0])\n",
    "ax2 = plt.subplot(grid[0, 1:])\n",
    "\n",
    "ax1.pie(data1, labels=keys, colors=palette_color, autopct='%.0f%%')\n",
    "ax1.title.set_text(\"Casual Riders\")\n",
    "ax2.pie(data2, labels=keys, colors=palette_color, autopct='%.0f%%')\n",
    "ax2.title.set_text(\"Annual Members\")\n",
    "\n",
    "\n",
    "# displaying chart\n",
    "plt.show()"
   ]
  },
  {
   "cell_type": "markdown",
   "id": "5b93f84a",
   "metadata": {
    "papermill": {
     "duration": 0.02385,
     "end_time": "2022-08-17T03:57:28.170703",
     "exception": false,
     "start_time": "2022-08-17T03:57:28.146853",
     "status": "completed"
    },
    "tags": []
   },
   "source": [
    "### Distance and Duration\n",
    "We will look at the __What distance usually annual members and casual riders travel__. But before we go for distance analysis, we have to find out __what percentage of annual member and casual rider used Cyclistic bikes only in _Home Stations_.__ Where we can spot only __4% of annual members and 10% of casual riders__ use Cyclistic bikes in their home station where we have been seen earlier that __station id: 13022__ have the most traffic by being a _Home Station_ and mainly by _Casual Riders_. So it can be __Negligible__."
   ]
  },
  {
   "cell_type": "code",
   "execution_count": 31,
   "id": "c37dade4",
   "metadata": {
    "execution": {
     "iopub.execute_input": "2022-08-17T03:57:28.218294Z",
     "iopub.status.busy": "2022-08-17T03:57:28.217294Z",
     "iopub.status.idle": "2022-08-17T03:57:29.728591Z",
     "shell.execute_reply": "2022-08-17T03:57:29.727271Z"
    },
    "papermill": {
     "duration": 1.538365,
     "end_time": "2022-08-17T03:57:29.731276",
     "exception": false,
     "start_time": "2022-08-17T03:57:28.192911",
     "status": "completed"
    },
    "tags": []
   },
   "outputs": [
    {
     "data": {
      "image/png": "[encoded data removed]",
      "text/plain": [
       "<Figure size 864x432 with 2 Axes>"
      ]
     },
     "metadata": {},
     "output_type": "display_data"
    }
   ],
   "source": [
    "# In geoloc dataset\n",
    "# a pivot table which is:\n",
    "# Group by 'member_casual' x 'home_station'\n",
    "# then count the ride_id\n",
    "home_station_dist = station.pivot_table(index='home_station',\n",
    "                    columns='member_casual',\n",
    "                    aggfunc='count',\n",
    "                    values='ride_id')\n",
    "\n",
    "# declaring data\n",
    "data1 = home_station_dist.casual.values\n",
    "data2 = home_station_dist.member.values\n",
    "keys = ['Out of Station', 'Home Station']\n",
    "  \n",
    "# define Seaborn color palette to use\n",
    "palette_color = sns.color_palette('Set2')\n",
    "  \n",
    "# plotting data on pie chart\n",
    "fig, (ax1, ax2) = plt.subplots(nrows=1, ncols=2,figsize=(12, 6))\n",
    "\n",
    "grid = plt.GridSpec(1, 2, wspace=0.2, hspace=0.5)\n",
    "\n",
    "ax1 = plt.subplot(grid[0, 0])\n",
    "ax2 = plt.subplot(grid[0, 1:])\n",
    "\n",
    "ax1.pie(data1, labels=keys, colors=palette_color, autopct='%.0f%%')\n",
    "ax1.title.set_text(\"Casual Riders\")\n",
    "ax2.pie(data2, labels=keys, colors=palette_color, autopct='%.0f%%')\n",
    "ax2.title.set_text(\"Annual Members\")\n",
    "\n",
    "\n",
    "# displaying chart\n",
    "plt.show()"
   ]
  },
  {
   "cell_type": "markdown",
   "id": "47d0e89e",
   "metadata": {
    "papermill": {
     "duration": 0.020605,
     "end_time": "2022-08-17T03:57:29.773146",
     "exception": false,
     "start_time": "2022-08-17T03:57:29.752541",
     "status": "completed"
    },
    "tags": []
   },
   "source": [
    "#### Distribution of Distance\n",
    "Now after knowing negligible home station is being used we can easily use whole dataset to know the __Distribution of distance among both types of riders__.\n",
    "\n",
    "From the distribution we can observe that the __distance travelled is higly skewed data__ where __Annual Members uses bikes to travel around 10 km__ whereas __Casual Riders travel around 20 km__ also with __Casual Riders distance traveled is around 3x than Annual Members__. "
   ]
  },
  {
   "cell_type": "code",
   "execution_count": 32,
   "id": "94907dd9",
   "metadata": {
    "execution": {
     "iopub.execute_input": "2022-08-17T03:57:29.816460Z",
     "iopub.status.busy": "2022-08-17T03:57:29.816072Z",
     "iopub.status.idle": "2022-08-17T03:57:53.238783Z",
     "shell.execute_reply": "2022-08-17T03:57:53.237606Z"
    },
    "papermill": {
     "duration": 23.447347,
     "end_time": "2022-08-17T03:57:53.241461",
     "exception": false,
     "start_time": "2022-08-17T03:57:29.794114",
     "status": "completed"
    },
    "tags": []
   },
   "outputs": [
    {
     "data": {
      "image/png": "[encoded data removed]",
      "text/plain": [
       "<Figure size 720x360 with 2 Axes>"
      ]
     },
     "metadata": {},
     "output_type": "display_data"
    }
   ],
   "source": [
    "# from geoloc dataset\n",
    "# extract 'in_km' of members\n",
    "# list of 'in_km' where 'member_casual'=='member'\n",
    "member_distance = geoloc[geoloc['member_casual']=='member']['in_km']\n",
    "\n",
    "# extract distance of casual\n",
    "# list of distance where 'member_casual'=='casual'\n",
    "casual_distance = geoloc[geoloc['member_casual']=='casual']['in_km']\n",
    "\n",
    "fig, axes = plt.subplots(1, 2, figsize=(10, 5))\n",
    "\n",
    "sns.distplot(member_distance, ax=axes[0])\n",
    "axes[0].set_title('Annual Members')\n",
    "\n",
    "sns.distplot(casual_distance, ax=axes[1])\n",
    "axes[1].set_title('Casual Riders')\n",
    "plt.tight_layout()"
   ]
  },
  {
   "cell_type": "markdown",
   "id": "9d8874a8",
   "metadata": {
    "papermill": {
     "duration": 0.020983,
     "end_time": "2022-08-17T03:57:53.283962",
     "exception": false,
     "start_time": "2022-08-17T03:57:53.262979",
     "status": "completed"
    },
    "tags": []
   },
   "source": [
    "#### Distribution of Duration\n",
    "As we seen before that distribution of distance is highly skewed so the __chances of the distribution of duration is also highly skewed which is not helpful__. We for now we find the __average duration and distances__ among different usertypes (members and casual riders).\n",
    "\n",
    "From the both of the plots we can spot that __the mean of distance is around same ie., 2km__ whereas there is huge difference in which __the mean of duration of Casual Riders is much higher than Annual Members__. So we can conclude that __Both type of users travels same distance but Casual Riders keeps the bike for much more days then Annual Members__."
   ]
  },
  {
   "cell_type": "code",
   "execution_count": 33,
   "id": "bddf910b",
   "metadata": {
    "execution": {
     "iopub.execute_input": "2022-08-17T03:57:53.328192Z",
     "iopub.status.busy": "2022-08-17T03:57:53.327719Z",
     "iopub.status.idle": "2022-08-17T03:57:54.588192Z",
     "shell.execute_reply": "2022-08-17T03:57:54.586878Z"
    },
    "papermill": {
     "duration": 1.285625,
     "end_time": "2022-08-17T03:57:54.590831",
     "exception": false,
     "start_time": "2022-08-17T03:57:53.305206",
     "status": "completed"
    },
    "tags": []
   },
   "outputs": [
    {
     "data": {
      "image/png": "[encoded data removed]",
      "text/plain": [
       "<Figure size 720x360 with 2 Axes>"
      ]
     },
     "metadata": {},
     "output_type": "display_data"
    }
   ],
   "source": [
    "# mean of duration\n",
    "# in duration dataset\n",
    "# group data by 'member_user'\n",
    "# aggregate the 'is_sum' by mean\n",
    "duration_mean = duration.groupby('member_casual')['in_sec'].mean()\n",
    "\n",
    "# mean of distance\n",
    "# in geoloc dataset\n",
    "# group data by 'member_user'\n",
    "# aggregate the 'is_sum' by mean\n",
    "distance_mean = geoloc.groupby('member_casual')['in_km'].mean()\n",
    "\n",
    "# \n",
    "fig, axes = plt.subplots(1, 2, figsize=(10, 5))\n",
    "\n",
    "sns.barplot(\n",
    "    x=duration_mean.index.values,\n",
    "    y=duration_mean.values, \n",
    "    ax=axes[0])\n",
    "axes[0].set_title('Mean of Duration')\n",
    "\n",
    "sns.barplot(\n",
    "    x=distance_mean.index.values,\n",
    "    y=distance_mean.values, \n",
    "    ax=axes[1])\n",
    "axes[1].set_title('Mean of Distance')\n",
    "plt.tight_layout()"
   ]
  },
  {
   "cell_type": "markdown",
   "id": "3babd06b",
   "metadata": {
    "papermill": {
     "duration": 0.021244,
     "end_time": "2022-08-17T03:57:54.633715",
     "exception": false,
     "start_time": "2022-08-17T03:57:54.612471",
     "status": "completed"
    },
    "tags": []
   },
   "source": [
    "### Most traffic on weekdays/days/months\n",
    "Now we are going to find out __on which weekday or day or month Annual Members and Casual Riders start their trip__. "
   ]
  },
  {
   "cell_type": "code",
   "execution_count": 34,
   "id": "ab5d0273",
   "metadata": {
    "execution": {
     "iopub.execute_input": "2022-08-17T03:57:54.678930Z",
     "iopub.status.busy": "2022-08-17T03:57:54.678487Z",
     "iopub.status.idle": "2022-08-17T03:57:59.323573Z",
     "shell.execute_reply": "2022-08-17T03:57:59.322313Z"
    },
    "papermill": {
     "duration": 4.671205,
     "end_time": "2022-08-17T03:57:59.326532",
     "exception": false,
     "start_time": "2022-08-17T03:57:54.655327",
     "status": "completed"
    },
    "tags": []
   },
   "outputs": [],
   "source": [
    "# in duration dataset\n",
    "# use pivot table in which\n",
    "# Group data by 'weekday' x 'member_casual'\n",
    "# Aggregate the 'ride_id' by count\n",
    "weekday_traffic = duration.pivot_table(index='weekday',\n",
    "                                       columns='member_casual',\n",
    "                                       aggfunc='count',\n",
    "                                       values='ride_id',\n",
    "                                       fill_value=0)\n",
    "\n",
    "# Group data by 'day' x 'member_casual'\n",
    "# Aggregate the 'ride_id' by count\n",
    "day_traffic = duration.pivot_table(index='day',\n",
    "                                   columns='member_casual',\n",
    "                                   aggfunc='count',\n",
    "                                   values='ride_id',\n",
    "                                   fill_value=0)\n",
    "\n",
    "# Group data by 'month' x 'member_casual'\n",
    "# Aggregate the 'ride_id' by count\n",
    "month_traffic = duration.pivot_table(index='month',\n",
    "                                   columns='member_casual',\n",
    "                                   aggfunc='count',\n",
    "                                   values='ride_id',\n",
    "                                   fill_value=0)"
   ]
  },
  {
   "cell_type": "code",
   "execution_count": 35,
   "id": "20e225c1",
   "metadata": {
    "execution": {
     "iopub.execute_input": "2022-08-17T03:57:59.374016Z",
     "iopub.status.busy": "2022-08-17T03:57:59.373549Z",
     "iopub.status.idle": "2022-08-17T03:57:59.382229Z",
     "shell.execute_reply": "2022-08-17T03:57:59.381213Z"
    },
    "papermill": {
     "duration": 0.035736,
     "end_time": "2022-08-17T03:57:59.385186",
     "exception": false,
     "start_time": "2022-08-17T03:57:59.349450",
     "status": "completed"
    },
    "tags": []
   },
   "outputs": [],
   "source": [
    "def barplot(x):\n",
    "    fig, axes = plt.subplots(1, 2, figsize=(15, 5))\n",
    "    \n",
    "    # Set Seaborn style\n",
    "    sns.set(style='darkgrid', color_codes=True)\n",
    "    pal = sns.color_palette(\"Greens_d\", len(x))\n",
    "    rank1 = x.member.values.argsort().argsort()\n",
    "    rank2 = x.casual.values.argsort().argsort()\n",
    "    \n",
    "    sns.barplot(\n",
    "        x=x.index.values,\n",
    "        y=x.member.values, \n",
    "        ax=axes[0],\n",
    "        palette=np.array(pal)[rank1])\n",
    "    axes[0].set_title('Annual Member')\n",
    "\n",
    "    sns.barplot(\n",
    "        x=x.index.values,\n",
    "        y=x.casual.values, \n",
    "        ax=axes[1],\n",
    "        palette=np.array(pal)[rank2])\n",
    "    axes[1].set_title('Casual Rider')\n",
    "    plt.tight_layout()"
   ]
  },
  {
   "cell_type": "markdown",
   "id": "9772cb10",
   "metadata": {
    "papermill": {
     "duration": 0.021137,
     "end_time": "2022-08-17T03:57:59.427881",
     "exception": false,
     "start_time": "2022-08-17T03:57:59.406744",
     "status": "completed"
    },
    "tags": []
   },
   "source": [
    "#### Most traffic on Weekdays\n",
    "- Annual Members uses Cyclistic bikes mainly on mid of the weeks ie., __Tuesday, Wednesday and Thrusday__ \n",
    "- Casual Rider uses Cyclistic bikes on mostly on Weekends ie., __Saturday and Sunday__"
   ]
  },
  {
   "cell_type": "code",
   "execution_count": 36,
   "id": "bf1f7104",
   "metadata": {
    "execution": {
     "iopub.execute_input": "2022-08-17T03:57:59.472332Z",
     "iopub.status.busy": "2022-08-17T03:57:59.471948Z",
     "iopub.status.idle": "2022-08-17T03:57:59.825065Z",
     "shell.execute_reply": "2022-08-17T03:57:59.823856Z"
    },
    "papermill": {
     "duration": 0.378088,
     "end_time": "2022-08-17T03:57:59.827467",
     "exception": false,
     "start_time": "2022-08-17T03:57:59.449379",
     "status": "completed"
    },
    "tags": []
   },
   "outputs": [
    {
     "data": {
      "image/png": "[encoded data removed]",
      "text/plain": [
       "<Figure size 1080x360 with 2 Axes>"
      ]
     },
     "metadata": {},
     "output_type": "display_data"
    }
   ],
   "source": [
    "barplot(weekday_traffic)"
   ]
  },
  {
   "cell_type": "markdown",
   "id": "245a4237",
   "metadata": {
    "papermill": {
     "duration": 0.021376,
     "end_time": "2022-08-17T03:57:59.870751",
     "exception": false,
     "start_time": "2022-08-17T03:57:59.849375",
     "status": "completed"
    },
    "tags": []
   },
   "source": [
    "#### Most traffic on days\n",
    "Daily traffic is distributed about equally but if we see slight difference is that __Annual Members uses their Cyclistic bikes in Week 2 and Week 3__ whereas __Casual Riders uses their Cyclistic bikes on first three weeks of the month__."
   ]
  },
  {
   "cell_type": "code",
   "execution_count": 37,
   "id": "855ec48d",
   "metadata": {
    "execution": {
     "iopub.execute_input": "2022-08-17T03:57:59.916621Z",
     "iopub.status.busy": "2022-08-17T03:57:59.915652Z",
     "iopub.status.idle": "2022-08-17T03:58:00.779361Z",
     "shell.execute_reply": "2022-08-17T03:58:00.778170Z"
    },
    "papermill": {
     "duration": 0.889889,
     "end_time": "2022-08-17T03:58:00.782236",
     "exception": false,
     "start_time": "2022-08-17T03:57:59.892347",
     "status": "completed"
    },
    "tags": []
   },
   "outputs": [
    {
     "data": {
      "image/png": "[encoded data removed]",
      "text/plain": [
       "<Figure size 1080x360 with 2 Axes>"
      ]
     },
     "metadata": {},
     "output_type": "display_data"
    }
   ],
   "source": [
    "barplot(day_traffic)"
   ]
  },
  {
   "cell_type": "markdown",
   "id": "4cbfe6a6",
   "metadata": {
    "papermill": {
     "duration": 0.023088,
     "end_time": "2022-08-17T03:58:00.828891",
     "exception": false,
     "start_time": "2022-08-17T03:58:00.805803",
     "status": "completed"
    },
    "tags": []
   },
   "source": [
    "#### Most traffic on Months\n",
    "- Most traffic of Casual riders comes in the middle of the year ie., __about June to September__.\n",
    "- Most traffic of Annual Member comes in throughout whole year but mostly in between __May to October__."
   ]
  },
  {
   "cell_type": "code",
   "execution_count": 38,
   "id": "648ab409",
   "metadata": {
    "execution": {
     "iopub.execute_input": "2022-08-17T03:58:00.878109Z",
     "iopub.status.busy": "2022-08-17T03:58:00.877571Z",
     "iopub.status.idle": "2022-08-17T03:58:01.473299Z",
     "shell.execute_reply": "2022-08-17T03:58:01.471971Z"
    },
    "papermill": {
     "duration": 0.623974,
     "end_time": "2022-08-17T03:58:01.476113",
     "exception": false,
     "start_time": "2022-08-17T03:58:00.852139",
     "status": "completed"
    },
    "tags": []
   },
   "outputs": [
    {
     "data": {
      "image/png": "[encoded data removed]",
      "text/plain": [
       "<Figure size 1080x360 with 2 Axes>"
      ]
     },
     "metadata": {},
     "output_type": "display_data"
    }
   ],
   "source": [
    "barplot(month_traffic)"
   ]
  },
  {
   "cell_type": "markdown",
   "id": "92c3bf40",
   "metadata": {
    "papermill": {
     "duration": 0.023266,
     "end_time": "2022-08-17T03:58:01.523254",
     "exception": false,
     "start_time": "2022-08-17T03:58:01.499988",
     "status": "completed"
    },
    "tags": []
   },
   "source": [
    "# Share\n",
    "After analyzing the data in this notebook, where we have done __Sorting, Filtering and Aggregating Data__, now we will prepare a __Dashboard__ that could be shareable to anyone.\n",
    "\n",
    "Before we start building a dashboard in BI tools, we have to first collect the aggregated data by __converting those aggregated dataframes__ which is build and used in _Analyze Phase_ into __CSV file__. "
   ]
  },
  {
   "cell_type": "code",
   "execution_count": 39,
   "id": "c4f6bd08",
   "metadata": {
    "execution": {
     "iopub.execute_input": "2022-08-17T03:58:01.571886Z",
     "iopub.status.busy": "2022-08-17T03:58:01.571457Z",
     "iopub.status.idle": "2022-08-17T03:58:01.608832Z",
     "shell.execute_reply": "2022-08-17T03:58:01.607797Z"
    },
    "papermill": {
     "duration": 0.064728,
     "end_time": "2022-08-17T03:58:01.611516",
     "exception": false,
     "start_time": "2022-08-17T03:58:01.546788",
     "status": "completed"
    },
    "tags": []
   },
   "outputs": [],
   "source": [
    "# list of dataframes to convert in csv\n",
    "## Usertype Count\n",
    "# 1. total_usertype \n",
    "total_usertype = pd.DataFrame()\n",
    "total_usertype['usertype'] = usertype\n",
    "total_usertype['total'] = total\n",
    "total_usertype.to_csv('total_usertype.csv')\n",
    "\n",
    "## Top Paths and Stations\n",
    "# 1. top_start_station\n",
    "top_station_traffic.to_csv(\"top_station_traffic.csv\")\n",
    "\n",
    "top_start_station = pd.DataFrame()\n",
    "top_start_station['member_station'] = top_member_start_station.index.values\n",
    "top_start_station['member_station_count'] = top_member_start_station.values\n",
    "top_start_station['casual_station'] = top_casual_start_station.index.values\n",
    "top_start_station['casual_station_count'] = top_casual_start_station.values\n",
    "top_start_station.to_csv(\"top_start_station.csv\")\n",
    "# 2. top_end_station\n",
    "top_end_station = pd.DataFrame()\n",
    "top_end_station['member_station'] = top_member_end_station.index.values\n",
    "top_end_station['member_station_count'] = top_member_end_station.values\n",
    "top_end_station['casual_station'] = top_casual_end_station.index.values\n",
    "top_end_station['casual_station_count'] = top_casual_end_station.values\n",
    "top_end_station.to_csv(\"top_end_station.csv\")\n",
    "# 3. top_member_home_station_loc\n",
    "top_member_home_station_loc.to_csv('top_member_home_station_loc.csv')\n",
    "# 4. top_casual_home_station_loc\n",
    "top_casual_home_station_loc.to_csv('top_casual_home_station_loc.csv')\n",
    "# 5. top_casual_path_loc\n",
    "top_casual_path_loc.to_csv('top_casual_path_loc.csv')\n",
    "# 6. top_member_path_loc\n",
    "top_member_path_loc.to_csv('top_member_path_loc.csv')\n",
    "# 7. home_station_dist\n",
    "home_station_dist.to_csv('home_station_dist.csv')\n",
    "\n",
    "## Bike Priority\n",
    "# 1. bike_priority\n",
    "bike_priority.to_csv(\"bike_priority.csv\")\n",
    "\n",
    "## Distance and Duration\n",
    "# 1. distance_average\n",
    "distance_mean.to_csv('distance_mean.csv')\n",
    "# 2. duration_average\n",
    "duration_mean.to_csv('duration_mean.csv')\n",
    "\n",
    "## Most traffic on weekdays/days/months\n",
    "# 1. weekday_traffic\n",
    "weekday_traffic.to_csv(\"weekday_traffic.csv\")\n",
    "# 2. day_traffic\n",
    "day_traffic.to_csv(\"day_traffic.csv\")\n",
    "# 3. month_traffic\n",
    "month_traffic.to_csv(\"month_traffic.csv\")"
   ]
  },
  {
   "cell_type": "code",
   "execution_count": null,
   "id": "6f8a7e25",
   "metadata": {
    "papermill": {
     "duration": 0.024381,
     "end_time": "2022-08-17T03:58:01.660735",
     "exception": false,
     "start_time": "2022-08-17T03:58:01.636354",
     "status": "completed"
    },
    "tags": []
   },
   "outputs": [],
   "source": []
  }
 ],
 "metadata": {
  "kernelspec": {
   "display_name": "Python 3",
   "language": "python",
   "name": "python3"
  },
  "language_info": {
   "codemirror_mode": {
    "name": "ipython",
    "version": 3
   },
   "file_extension": ".py",
   "mimetype": "text/x-python",
   "name": "python",
   "nbconvert_exporter": "python",
   "pygments_lexer": "ipython3",
   "version": "3.7.12"
  },
  "papermill": {
   "default_parameters": {},
   "duration": 332.950908,
   "end_time": "2022-08-17T03:58:04.307643",
   "environment_variables": {},
   "exception": null,
   "input_path": "__notebook__.ipynb",
   "output_path": "__notebook__.ipynb",
   "parameters": {},
   "start_time": "2022-08-17T03:52:31.356735",
   "version": "2.3.4"
  }
 },
 "nbformat": 4,
 "nbformat_minor": 5
}
